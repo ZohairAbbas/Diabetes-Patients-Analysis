{
 "cells": [
  {
   "cell_type": "markdown",
   "id": "7b080cc9",
   "metadata": {},
   "source": [
    "### Importing Libraries"
   ]
  },
  {
   "cell_type": "code",
   "execution_count": 1,
   "id": "5ef02754",
   "metadata": {},
   "outputs": [],
   "source": [
    "import pandas as pd\n",
    "import seaborn as sns\n",
    "import matplotlib.pyplot as plt\n",
    "from sklearn.model_selection import train_test_split\n",
    "from sklearn.ensemble import RandomForestClassifier\n",
    "from sklearn.tree import DecisionTreeClassifier\n",
    "from sklearn.ensemble import GradientBoostingClassifier\n",
    "from sklearn.naive_bayes import GaussianNB\n",
    "from sklearn import metrics"
   ]
  },
  {
   "cell_type": "markdown",
   "id": "9f98f7a3",
   "metadata": {},
   "source": [
    "### Loading Data"
   ]
  },
  {
   "cell_type": "code",
   "execution_count": 2,
   "id": "0ed16b1e",
   "metadata": {},
   "outputs": [],
   "source": [
    "df = pd.read_csv(r'diabetes_binary_5050split_health_indicators_BRFSS2015.csv')"
   ]
  },
  {
   "cell_type": "markdown",
   "id": "ed573dc0",
   "metadata": {},
   "source": [
    "### Inspecting Data"
   ]
  },
  {
   "cell_type": "code",
   "execution_count": 3,
   "id": "40a63e86",
   "metadata": {},
   "outputs": [
    {
     "data": {
      "text/plain": [
       "(70692, 22)"
      ]
     },
     "execution_count": 3,
     "metadata": {},
     "output_type": "execute_result"
    }
   ],
   "source": [
    "df.shape"
   ]
  },
  {
   "cell_type": "code",
   "execution_count": 4,
   "id": "e6f3d8e8",
   "metadata": {},
   "outputs": [
    {
     "name": "stdout",
     "output_type": "stream",
     "text": [
      "<class 'pandas.core.frame.DataFrame'>\n",
      "RangeIndex: 70692 entries, 0 to 70691\n",
      "Data columns (total 22 columns):\n",
      " #   Column                Non-Null Count  Dtype  \n",
      "---  ------                --------------  -----  \n",
      " 0   Diabetes_binary       70692 non-null  float64\n",
      " 1   HighBP                70692 non-null  float64\n",
      " 2   HighChol              70692 non-null  float64\n",
      " 3   CholCheck             70692 non-null  float64\n",
      " 4   BMI                   70692 non-null  float64\n",
      " 5   Smoker                70692 non-null  float64\n",
      " 6   Stroke                70692 non-null  float64\n",
      " 7   HeartDiseaseorAttack  70692 non-null  float64\n",
      " 8   PhysActivity          70692 non-null  float64\n",
      " 9   Fruits                70692 non-null  float64\n",
      " 10  Veggies               70692 non-null  float64\n",
      " 11  HvyAlcoholConsump     70692 non-null  float64\n",
      " 12  AnyHealthcare         70692 non-null  float64\n",
      " 13  NoDocbcCost           70692 non-null  float64\n",
      " 14  GenHlth               70692 non-null  float64\n",
      " 15  MentHlth              70692 non-null  float64\n",
      " 16  PhysHlth              70692 non-null  float64\n",
      " 17  DiffWalk              70692 non-null  float64\n",
      " 18  Sex                   70692 non-null  float64\n",
      " 19  Age                   70692 non-null  float64\n",
      " 20  Education             70692 non-null  float64\n",
      " 21  Income                70692 non-null  float64\n",
      "dtypes: float64(22)\n",
      "memory usage: 11.9 MB\n"
     ]
    }
   ],
   "source": [
    "df.info()"
   ]
  },
  {
   "cell_type": "code",
   "execution_count": 5,
   "id": "5d7bbc98",
   "metadata": {},
   "outputs": [
    {
     "data": {
      "text/html": [
       "<div>\n",
       "<style scoped>\n",
       "    .dataframe tbody tr th:only-of-type {\n",
       "        vertical-align: middle;\n",
       "    }\n",
       "\n",
       "    .dataframe tbody tr th {\n",
       "        vertical-align: top;\n",
       "    }\n",
       "\n",
       "    .dataframe thead th {\n",
       "        text-align: right;\n",
       "    }\n",
       "</style>\n",
       "<table border=\"1\" class=\"dataframe\">\n",
       "  <thead>\n",
       "    <tr style=\"text-align: right;\">\n",
       "      <th></th>\n",
       "      <th>Diabetes_binary</th>\n",
       "      <th>HighBP</th>\n",
       "      <th>HighChol</th>\n",
       "      <th>CholCheck</th>\n",
       "      <th>BMI</th>\n",
       "      <th>Smoker</th>\n",
       "      <th>Stroke</th>\n",
       "      <th>HeartDiseaseorAttack</th>\n",
       "      <th>PhysActivity</th>\n",
       "      <th>Fruits</th>\n",
       "      <th>...</th>\n",
       "      <th>AnyHealthcare</th>\n",
       "      <th>NoDocbcCost</th>\n",
       "      <th>GenHlth</th>\n",
       "      <th>MentHlth</th>\n",
       "      <th>PhysHlth</th>\n",
       "      <th>DiffWalk</th>\n",
       "      <th>Sex</th>\n",
       "      <th>Age</th>\n",
       "      <th>Education</th>\n",
       "      <th>Income</th>\n",
       "    </tr>\n",
       "  </thead>\n",
       "  <tbody>\n",
       "    <tr>\n",
       "      <th>count</th>\n",
       "      <td>70692.000000</td>\n",
       "      <td>70692.000000</td>\n",
       "      <td>70692.000000</td>\n",
       "      <td>70692.000000</td>\n",
       "      <td>70692.000000</td>\n",
       "      <td>70692.000000</td>\n",
       "      <td>70692.000000</td>\n",
       "      <td>70692.000000</td>\n",
       "      <td>70692.000000</td>\n",
       "      <td>70692.000000</td>\n",
       "      <td>...</td>\n",
       "      <td>70692.000000</td>\n",
       "      <td>70692.000000</td>\n",
       "      <td>70692.000000</td>\n",
       "      <td>70692.000000</td>\n",
       "      <td>70692.000000</td>\n",
       "      <td>70692.000000</td>\n",
       "      <td>70692.000000</td>\n",
       "      <td>70692.000000</td>\n",
       "      <td>70692.000000</td>\n",
       "      <td>70692.000000</td>\n",
       "    </tr>\n",
       "    <tr>\n",
       "      <th>mean</th>\n",
       "      <td>0.500000</td>\n",
       "      <td>0.563458</td>\n",
       "      <td>0.525703</td>\n",
       "      <td>0.975259</td>\n",
       "      <td>29.856985</td>\n",
       "      <td>0.475273</td>\n",
       "      <td>0.062171</td>\n",
       "      <td>0.147810</td>\n",
       "      <td>0.703036</td>\n",
       "      <td>0.611795</td>\n",
       "      <td>...</td>\n",
       "      <td>0.954960</td>\n",
       "      <td>0.093914</td>\n",
       "      <td>2.837082</td>\n",
       "      <td>3.752037</td>\n",
       "      <td>5.810417</td>\n",
       "      <td>0.252730</td>\n",
       "      <td>0.456997</td>\n",
       "      <td>8.584055</td>\n",
       "      <td>4.920953</td>\n",
       "      <td>5.698311</td>\n",
       "    </tr>\n",
       "    <tr>\n",
       "      <th>std</th>\n",
       "      <td>0.500004</td>\n",
       "      <td>0.495960</td>\n",
       "      <td>0.499342</td>\n",
       "      <td>0.155336</td>\n",
       "      <td>7.113954</td>\n",
       "      <td>0.499392</td>\n",
       "      <td>0.241468</td>\n",
       "      <td>0.354914</td>\n",
       "      <td>0.456924</td>\n",
       "      <td>0.487345</td>\n",
       "      <td>...</td>\n",
       "      <td>0.207394</td>\n",
       "      <td>0.291712</td>\n",
       "      <td>1.113565</td>\n",
       "      <td>8.155627</td>\n",
       "      <td>10.062261</td>\n",
       "      <td>0.434581</td>\n",
       "      <td>0.498151</td>\n",
       "      <td>2.852153</td>\n",
       "      <td>1.029081</td>\n",
       "      <td>2.175196</td>\n",
       "    </tr>\n",
       "    <tr>\n",
       "      <th>min</th>\n",
       "      <td>0.000000</td>\n",
       "      <td>0.000000</td>\n",
       "      <td>0.000000</td>\n",
       "      <td>0.000000</td>\n",
       "      <td>12.000000</td>\n",
       "      <td>0.000000</td>\n",
       "      <td>0.000000</td>\n",
       "      <td>0.000000</td>\n",
       "      <td>0.000000</td>\n",
       "      <td>0.000000</td>\n",
       "      <td>...</td>\n",
       "      <td>0.000000</td>\n",
       "      <td>0.000000</td>\n",
       "      <td>1.000000</td>\n",
       "      <td>0.000000</td>\n",
       "      <td>0.000000</td>\n",
       "      <td>0.000000</td>\n",
       "      <td>0.000000</td>\n",
       "      <td>1.000000</td>\n",
       "      <td>1.000000</td>\n",
       "      <td>1.000000</td>\n",
       "    </tr>\n",
       "    <tr>\n",
       "      <th>25%</th>\n",
       "      <td>0.000000</td>\n",
       "      <td>0.000000</td>\n",
       "      <td>0.000000</td>\n",
       "      <td>1.000000</td>\n",
       "      <td>25.000000</td>\n",
       "      <td>0.000000</td>\n",
       "      <td>0.000000</td>\n",
       "      <td>0.000000</td>\n",
       "      <td>0.000000</td>\n",
       "      <td>0.000000</td>\n",
       "      <td>...</td>\n",
       "      <td>1.000000</td>\n",
       "      <td>0.000000</td>\n",
       "      <td>2.000000</td>\n",
       "      <td>0.000000</td>\n",
       "      <td>0.000000</td>\n",
       "      <td>0.000000</td>\n",
       "      <td>0.000000</td>\n",
       "      <td>7.000000</td>\n",
       "      <td>4.000000</td>\n",
       "      <td>4.000000</td>\n",
       "    </tr>\n",
       "    <tr>\n",
       "      <th>50%</th>\n",
       "      <td>0.500000</td>\n",
       "      <td>1.000000</td>\n",
       "      <td>1.000000</td>\n",
       "      <td>1.000000</td>\n",
       "      <td>29.000000</td>\n",
       "      <td>0.000000</td>\n",
       "      <td>0.000000</td>\n",
       "      <td>0.000000</td>\n",
       "      <td>1.000000</td>\n",
       "      <td>1.000000</td>\n",
       "      <td>...</td>\n",
       "      <td>1.000000</td>\n",
       "      <td>0.000000</td>\n",
       "      <td>3.000000</td>\n",
       "      <td>0.000000</td>\n",
       "      <td>0.000000</td>\n",
       "      <td>0.000000</td>\n",
       "      <td>0.000000</td>\n",
       "      <td>9.000000</td>\n",
       "      <td>5.000000</td>\n",
       "      <td>6.000000</td>\n",
       "    </tr>\n",
       "    <tr>\n",
       "      <th>75%</th>\n",
       "      <td>1.000000</td>\n",
       "      <td>1.000000</td>\n",
       "      <td>1.000000</td>\n",
       "      <td>1.000000</td>\n",
       "      <td>33.000000</td>\n",
       "      <td>1.000000</td>\n",
       "      <td>0.000000</td>\n",
       "      <td>0.000000</td>\n",
       "      <td>1.000000</td>\n",
       "      <td>1.000000</td>\n",
       "      <td>...</td>\n",
       "      <td>1.000000</td>\n",
       "      <td>0.000000</td>\n",
       "      <td>4.000000</td>\n",
       "      <td>2.000000</td>\n",
       "      <td>6.000000</td>\n",
       "      <td>1.000000</td>\n",
       "      <td>1.000000</td>\n",
       "      <td>11.000000</td>\n",
       "      <td>6.000000</td>\n",
       "      <td>8.000000</td>\n",
       "    </tr>\n",
       "    <tr>\n",
       "      <th>max</th>\n",
       "      <td>1.000000</td>\n",
       "      <td>1.000000</td>\n",
       "      <td>1.000000</td>\n",
       "      <td>1.000000</td>\n",
       "      <td>98.000000</td>\n",
       "      <td>1.000000</td>\n",
       "      <td>1.000000</td>\n",
       "      <td>1.000000</td>\n",
       "      <td>1.000000</td>\n",
       "      <td>1.000000</td>\n",
       "      <td>...</td>\n",
       "      <td>1.000000</td>\n",
       "      <td>1.000000</td>\n",
       "      <td>5.000000</td>\n",
       "      <td>30.000000</td>\n",
       "      <td>30.000000</td>\n",
       "      <td>1.000000</td>\n",
       "      <td>1.000000</td>\n",
       "      <td>13.000000</td>\n",
       "      <td>6.000000</td>\n",
       "      <td>8.000000</td>\n",
       "    </tr>\n",
       "  </tbody>\n",
       "</table>\n",
       "<p>8 rows × 22 columns</p>\n",
       "</div>"
      ],
      "text/plain": [
       "       Diabetes_binary        HighBP      HighChol     CholCheck  \\\n",
       "count     70692.000000  70692.000000  70692.000000  70692.000000   \n",
       "mean          0.500000      0.563458      0.525703      0.975259   \n",
       "std           0.500004      0.495960      0.499342      0.155336   \n",
       "min           0.000000      0.000000      0.000000      0.000000   \n",
       "25%           0.000000      0.000000      0.000000      1.000000   \n",
       "50%           0.500000      1.000000      1.000000      1.000000   \n",
       "75%           1.000000      1.000000      1.000000      1.000000   \n",
       "max           1.000000      1.000000      1.000000      1.000000   \n",
       "\n",
       "                BMI        Smoker        Stroke  HeartDiseaseorAttack  \\\n",
       "count  70692.000000  70692.000000  70692.000000          70692.000000   \n",
       "mean      29.856985      0.475273      0.062171              0.147810   \n",
       "std        7.113954      0.499392      0.241468              0.354914   \n",
       "min       12.000000      0.000000      0.000000              0.000000   \n",
       "25%       25.000000      0.000000      0.000000              0.000000   \n",
       "50%       29.000000      0.000000      0.000000              0.000000   \n",
       "75%       33.000000      1.000000      0.000000              0.000000   \n",
       "max       98.000000      1.000000      1.000000              1.000000   \n",
       "\n",
       "       PhysActivity        Fruits  ...  AnyHealthcare   NoDocbcCost  \\\n",
       "count  70692.000000  70692.000000  ...   70692.000000  70692.000000   \n",
       "mean       0.703036      0.611795  ...       0.954960      0.093914   \n",
       "std        0.456924      0.487345  ...       0.207394      0.291712   \n",
       "min        0.000000      0.000000  ...       0.000000      0.000000   \n",
       "25%        0.000000      0.000000  ...       1.000000      0.000000   \n",
       "50%        1.000000      1.000000  ...       1.000000      0.000000   \n",
       "75%        1.000000      1.000000  ...       1.000000      0.000000   \n",
       "max        1.000000      1.000000  ...       1.000000      1.000000   \n",
       "\n",
       "            GenHlth      MentHlth      PhysHlth      DiffWalk           Sex  \\\n",
       "count  70692.000000  70692.000000  70692.000000  70692.000000  70692.000000   \n",
       "mean       2.837082      3.752037      5.810417      0.252730      0.456997   \n",
       "std        1.113565      8.155627     10.062261      0.434581      0.498151   \n",
       "min        1.000000      0.000000      0.000000      0.000000      0.000000   \n",
       "25%        2.000000      0.000000      0.000000      0.000000      0.000000   \n",
       "50%        3.000000      0.000000      0.000000      0.000000      0.000000   \n",
       "75%        4.000000      2.000000      6.000000      1.000000      1.000000   \n",
       "max        5.000000     30.000000     30.000000      1.000000      1.000000   \n",
       "\n",
       "                Age     Education        Income  \n",
       "count  70692.000000  70692.000000  70692.000000  \n",
       "mean       8.584055      4.920953      5.698311  \n",
       "std        2.852153      1.029081      2.175196  \n",
       "min        1.000000      1.000000      1.000000  \n",
       "25%        7.000000      4.000000      4.000000  \n",
       "50%        9.000000      5.000000      6.000000  \n",
       "75%       11.000000      6.000000      8.000000  \n",
       "max       13.000000      6.000000      8.000000  \n",
       "\n",
       "[8 rows x 22 columns]"
      ]
     },
     "execution_count": 5,
     "metadata": {},
     "output_type": "execute_result"
    }
   ],
   "source": [
    "df.describe()"
   ]
  },
  {
   "cell_type": "code",
   "execution_count": 6,
   "id": "b3212ee5",
   "metadata": {},
   "outputs": [
    {
     "data": {
      "text/html": [
       "<div>\n",
       "<style scoped>\n",
       "    .dataframe tbody tr th:only-of-type {\n",
       "        vertical-align: middle;\n",
       "    }\n",
       "\n",
       "    .dataframe tbody tr th {\n",
       "        vertical-align: top;\n",
       "    }\n",
       "\n",
       "    .dataframe thead th {\n",
       "        text-align: right;\n",
       "    }\n",
       "</style>\n",
       "<table border=\"1\" class=\"dataframe\">\n",
       "  <thead>\n",
       "    <tr style=\"text-align: right;\">\n",
       "      <th></th>\n",
       "      <th>Diabetes_binary</th>\n",
       "      <th>HighBP</th>\n",
       "      <th>HighChol</th>\n",
       "      <th>CholCheck</th>\n",
       "      <th>BMI</th>\n",
       "      <th>Smoker</th>\n",
       "      <th>Stroke</th>\n",
       "      <th>HeartDiseaseorAttack</th>\n",
       "      <th>PhysActivity</th>\n",
       "      <th>Fruits</th>\n",
       "      <th>...</th>\n",
       "      <th>AnyHealthcare</th>\n",
       "      <th>NoDocbcCost</th>\n",
       "      <th>GenHlth</th>\n",
       "      <th>MentHlth</th>\n",
       "      <th>PhysHlth</th>\n",
       "      <th>DiffWalk</th>\n",
       "      <th>Sex</th>\n",
       "      <th>Age</th>\n",
       "      <th>Education</th>\n",
       "      <th>Income</th>\n",
       "    </tr>\n",
       "  </thead>\n",
       "  <tbody>\n",
       "    <tr>\n",
       "      <th>0</th>\n",
       "      <td>0.0</td>\n",
       "      <td>1.0</td>\n",
       "      <td>0.0</td>\n",
       "      <td>1.0</td>\n",
       "      <td>26.0</td>\n",
       "      <td>0.0</td>\n",
       "      <td>0.0</td>\n",
       "      <td>0.0</td>\n",
       "      <td>1.0</td>\n",
       "      <td>0.0</td>\n",
       "      <td>...</td>\n",
       "      <td>1.0</td>\n",
       "      <td>0.0</td>\n",
       "      <td>3.0</td>\n",
       "      <td>5.0</td>\n",
       "      <td>30.0</td>\n",
       "      <td>0.0</td>\n",
       "      <td>1.0</td>\n",
       "      <td>4.0</td>\n",
       "      <td>6.0</td>\n",
       "      <td>8.0</td>\n",
       "    </tr>\n",
       "    <tr>\n",
       "      <th>1</th>\n",
       "      <td>0.0</td>\n",
       "      <td>1.0</td>\n",
       "      <td>1.0</td>\n",
       "      <td>1.0</td>\n",
       "      <td>26.0</td>\n",
       "      <td>1.0</td>\n",
       "      <td>1.0</td>\n",
       "      <td>0.0</td>\n",
       "      <td>0.0</td>\n",
       "      <td>1.0</td>\n",
       "      <td>...</td>\n",
       "      <td>1.0</td>\n",
       "      <td>0.0</td>\n",
       "      <td>3.0</td>\n",
       "      <td>0.0</td>\n",
       "      <td>0.0</td>\n",
       "      <td>0.0</td>\n",
       "      <td>1.0</td>\n",
       "      <td>12.0</td>\n",
       "      <td>6.0</td>\n",
       "      <td>8.0</td>\n",
       "    </tr>\n",
       "    <tr>\n",
       "      <th>2</th>\n",
       "      <td>0.0</td>\n",
       "      <td>0.0</td>\n",
       "      <td>0.0</td>\n",
       "      <td>1.0</td>\n",
       "      <td>26.0</td>\n",
       "      <td>0.0</td>\n",
       "      <td>0.0</td>\n",
       "      <td>0.0</td>\n",
       "      <td>1.0</td>\n",
       "      <td>1.0</td>\n",
       "      <td>...</td>\n",
       "      <td>1.0</td>\n",
       "      <td>0.0</td>\n",
       "      <td>1.0</td>\n",
       "      <td>0.0</td>\n",
       "      <td>10.0</td>\n",
       "      <td>0.0</td>\n",
       "      <td>1.0</td>\n",
       "      <td>13.0</td>\n",
       "      <td>6.0</td>\n",
       "      <td>8.0</td>\n",
       "    </tr>\n",
       "    <tr>\n",
       "      <th>3</th>\n",
       "      <td>0.0</td>\n",
       "      <td>1.0</td>\n",
       "      <td>1.0</td>\n",
       "      <td>1.0</td>\n",
       "      <td>28.0</td>\n",
       "      <td>1.0</td>\n",
       "      <td>0.0</td>\n",
       "      <td>0.0</td>\n",
       "      <td>1.0</td>\n",
       "      <td>1.0</td>\n",
       "      <td>...</td>\n",
       "      <td>1.0</td>\n",
       "      <td>0.0</td>\n",
       "      <td>3.0</td>\n",
       "      <td>0.0</td>\n",
       "      <td>3.0</td>\n",
       "      <td>0.0</td>\n",
       "      <td>1.0</td>\n",
       "      <td>11.0</td>\n",
       "      <td>6.0</td>\n",
       "      <td>8.0</td>\n",
       "    </tr>\n",
       "    <tr>\n",
       "      <th>4</th>\n",
       "      <td>0.0</td>\n",
       "      <td>0.0</td>\n",
       "      <td>0.0</td>\n",
       "      <td>1.0</td>\n",
       "      <td>29.0</td>\n",
       "      <td>1.0</td>\n",
       "      <td>0.0</td>\n",
       "      <td>0.0</td>\n",
       "      <td>1.0</td>\n",
       "      <td>1.0</td>\n",
       "      <td>...</td>\n",
       "      <td>1.0</td>\n",
       "      <td>0.0</td>\n",
       "      <td>2.0</td>\n",
       "      <td>0.0</td>\n",
       "      <td>0.0</td>\n",
       "      <td>0.0</td>\n",
       "      <td>0.0</td>\n",
       "      <td>8.0</td>\n",
       "      <td>5.0</td>\n",
       "      <td>8.0</td>\n",
       "    </tr>\n",
       "  </tbody>\n",
       "</table>\n",
       "<p>5 rows × 22 columns</p>\n",
       "</div>"
      ],
      "text/plain": [
       "   Diabetes_binary  HighBP  HighChol  CholCheck   BMI  Smoker  Stroke  \\\n",
       "0              0.0     1.0       0.0        1.0  26.0     0.0     0.0   \n",
       "1              0.0     1.0       1.0        1.0  26.0     1.0     1.0   \n",
       "2              0.0     0.0       0.0        1.0  26.0     0.0     0.0   \n",
       "3              0.0     1.0       1.0        1.0  28.0     1.0     0.0   \n",
       "4              0.0     0.0       0.0        1.0  29.0     1.0     0.0   \n",
       "\n",
       "   HeartDiseaseorAttack  PhysActivity  Fruits  ...  AnyHealthcare  \\\n",
       "0                   0.0           1.0     0.0  ...            1.0   \n",
       "1                   0.0           0.0     1.0  ...            1.0   \n",
       "2                   0.0           1.0     1.0  ...            1.0   \n",
       "3                   0.0           1.0     1.0  ...            1.0   \n",
       "4                   0.0           1.0     1.0  ...            1.0   \n",
       "\n",
       "   NoDocbcCost  GenHlth  MentHlth  PhysHlth  DiffWalk  Sex   Age  Education  \\\n",
       "0          0.0      3.0       5.0      30.0       0.0  1.0   4.0        6.0   \n",
       "1          0.0      3.0       0.0       0.0       0.0  1.0  12.0        6.0   \n",
       "2          0.0      1.0       0.0      10.0       0.0  1.0  13.0        6.0   \n",
       "3          0.0      3.0       0.0       3.0       0.0  1.0  11.0        6.0   \n",
       "4          0.0      2.0       0.0       0.0       0.0  0.0   8.0        5.0   \n",
       "\n",
       "   Income  \n",
       "0     8.0  \n",
       "1     8.0  \n",
       "2     8.0  \n",
       "3     8.0  \n",
       "4     8.0  \n",
       "\n",
       "[5 rows x 22 columns]"
      ]
     },
     "execution_count": 6,
     "metadata": {},
     "output_type": "execute_result"
    }
   ],
   "source": [
    "df.head()"
   ]
  },
  {
   "cell_type": "markdown",
   "id": "bf81cf5d",
   "metadata": {},
   "source": [
    "### Data Preprocessing"
   ]
  },
  {
   "cell_type": "code",
   "execution_count": 7,
   "id": "bb019513",
   "metadata": {},
   "outputs": [
    {
     "data": {
      "text/plain": [
       "Diabetes_binary         0\n",
       "HighBP                  0\n",
       "HighChol                0\n",
       "CholCheck               0\n",
       "BMI                     0\n",
       "Smoker                  0\n",
       "Stroke                  0\n",
       "HeartDiseaseorAttack    0\n",
       "PhysActivity            0\n",
       "Fruits                  0\n",
       "Veggies                 0\n",
       "HvyAlcoholConsump       0\n",
       "AnyHealthcare           0\n",
       "NoDocbcCost             0\n",
       "GenHlth                 0\n",
       "MentHlth                0\n",
       "PhysHlth                0\n",
       "DiffWalk                0\n",
       "Sex                     0\n",
       "Age                     0\n",
       "Education               0\n",
       "Income                  0\n",
       "dtype: int64"
      ]
     },
     "execution_count": 7,
     "metadata": {},
     "output_type": "execute_result"
    }
   ],
   "source": [
    "df.isna().sum()"
   ]
  },
  {
   "cell_type": "code",
   "execution_count": 8,
   "id": "5f58a4d0",
   "metadata": {},
   "outputs": [
    {
     "data": {
      "text/plain": [
       "Diabetes_binary         0\n",
       "HighBP                  0\n",
       "HighChol                0\n",
       "CholCheck               0\n",
       "BMI                     0\n",
       "Smoker                  0\n",
       "Stroke                  0\n",
       "HeartDiseaseorAttack    0\n",
       "PhysActivity            0\n",
       "Fruits                  0\n",
       "Veggies                 0\n",
       "HvyAlcoholConsump       0\n",
       "AnyHealthcare           0\n",
       "NoDocbcCost             0\n",
       "GenHlth                 0\n",
       "MentHlth                0\n",
       "PhysHlth                0\n",
       "DiffWalk                0\n",
       "Sex                     0\n",
       "Age                     0\n",
       "Education               0\n",
       "Income                  0\n",
       "dtype: int64"
      ]
     },
     "execution_count": 8,
     "metadata": {},
     "output_type": "execute_result"
    }
   ],
   "source": [
    "df.isnull().sum()"
   ]
  },
  {
   "cell_type": "markdown",
   "id": "9be0eea0",
   "metadata": {},
   "source": [
    "**Note:** Hence no null or NA values in the dataset"
   ]
  },
  {
   "cell_type": "code",
   "execution_count": 9,
   "id": "6b372eeb",
   "metadata": {},
   "outputs": [],
   "source": [
    "df_new = df.drop_duplicates()"
   ]
  },
  {
   "cell_type": "code",
   "execution_count": 10,
   "id": "ec81d924",
   "metadata": {},
   "outputs": [
    {
     "data": {
      "text/plain": [
       "1635"
      ]
     },
     "execution_count": 10,
     "metadata": {},
     "output_type": "execute_result"
    }
   ],
   "source": [
    "len(df)-len(df_new)"
   ]
  },
  {
   "cell_type": "markdown",
   "id": "4249ef6b",
   "metadata": {},
   "source": [
    "**Note:** 1635 rows discarded due to duplicates"
   ]
  },
  {
   "cell_type": "code",
   "execution_count": 11,
   "id": "1d2ba34c",
   "metadata": {},
   "outputs": [
    {
     "data": {
      "text/html": [
       "<div>\n",
       "<style scoped>\n",
       "    .dataframe tbody tr th:only-of-type {\n",
       "        vertical-align: middle;\n",
       "    }\n",
       "\n",
       "    .dataframe tbody tr th {\n",
       "        vertical-align: top;\n",
       "    }\n",
       "\n",
       "    .dataframe thead th {\n",
       "        text-align: right;\n",
       "    }\n",
       "</style>\n",
       "<table border=\"1\" class=\"dataframe\">\n",
       "  <thead>\n",
       "    <tr style=\"text-align: right;\">\n",
       "      <th></th>\n",
       "      <th>Diabetes_binary</th>\n",
       "      <th>HighBP</th>\n",
       "      <th>HighChol</th>\n",
       "      <th>CholCheck</th>\n",
       "      <th>BMI</th>\n",
       "      <th>Smoker</th>\n",
       "      <th>Stroke</th>\n",
       "      <th>HeartDiseaseorAttack</th>\n",
       "      <th>PhysActivity</th>\n",
       "      <th>Fruits</th>\n",
       "      <th>...</th>\n",
       "      <th>AnyHealthcare</th>\n",
       "      <th>NoDocbcCost</th>\n",
       "      <th>GenHlth</th>\n",
       "      <th>MentHlth</th>\n",
       "      <th>PhysHlth</th>\n",
       "      <th>DiffWalk</th>\n",
       "      <th>Sex</th>\n",
       "      <th>Age</th>\n",
       "      <th>Education</th>\n",
       "      <th>Income</th>\n",
       "    </tr>\n",
       "  </thead>\n",
       "  <tbody>\n",
       "    <tr>\n",
       "      <th>0</th>\n",
       "      <td>0.0</td>\n",
       "      <td>1.0</td>\n",
       "      <td>0.0</td>\n",
       "      <td>1.0</td>\n",
       "      <td>26.0</td>\n",
       "      <td>0.0</td>\n",
       "      <td>0.0</td>\n",
       "      <td>0.0</td>\n",
       "      <td>1.0</td>\n",
       "      <td>0.0</td>\n",
       "      <td>...</td>\n",
       "      <td>1.0</td>\n",
       "      <td>0.0</td>\n",
       "      <td>3.0</td>\n",
       "      <td>5.0</td>\n",
       "      <td>30.0</td>\n",
       "      <td>0.0</td>\n",
       "      <td>1.0</td>\n",
       "      <td>4.0</td>\n",
       "      <td>6.0</td>\n",
       "      <td>8.0</td>\n",
       "    </tr>\n",
       "    <tr>\n",
       "      <th>1</th>\n",
       "      <td>0.0</td>\n",
       "      <td>1.0</td>\n",
       "      <td>1.0</td>\n",
       "      <td>1.0</td>\n",
       "      <td>26.0</td>\n",
       "      <td>1.0</td>\n",
       "      <td>1.0</td>\n",
       "      <td>0.0</td>\n",
       "      <td>0.0</td>\n",
       "      <td>1.0</td>\n",
       "      <td>...</td>\n",
       "      <td>1.0</td>\n",
       "      <td>0.0</td>\n",
       "      <td>3.0</td>\n",
       "      <td>0.0</td>\n",
       "      <td>0.0</td>\n",
       "      <td>0.0</td>\n",
       "      <td>1.0</td>\n",
       "      <td>12.0</td>\n",
       "      <td>6.0</td>\n",
       "      <td>8.0</td>\n",
       "    </tr>\n",
       "    <tr>\n",
       "      <th>2</th>\n",
       "      <td>0.0</td>\n",
       "      <td>0.0</td>\n",
       "      <td>0.0</td>\n",
       "      <td>1.0</td>\n",
       "      <td>26.0</td>\n",
       "      <td>0.0</td>\n",
       "      <td>0.0</td>\n",
       "      <td>0.0</td>\n",
       "      <td>1.0</td>\n",
       "      <td>1.0</td>\n",
       "      <td>...</td>\n",
       "      <td>1.0</td>\n",
       "      <td>0.0</td>\n",
       "      <td>1.0</td>\n",
       "      <td>0.0</td>\n",
       "      <td>10.0</td>\n",
       "      <td>0.0</td>\n",
       "      <td>1.0</td>\n",
       "      <td>13.0</td>\n",
       "      <td>6.0</td>\n",
       "      <td>8.0</td>\n",
       "    </tr>\n",
       "    <tr>\n",
       "      <th>3</th>\n",
       "      <td>0.0</td>\n",
       "      <td>1.0</td>\n",
       "      <td>1.0</td>\n",
       "      <td>1.0</td>\n",
       "      <td>28.0</td>\n",
       "      <td>1.0</td>\n",
       "      <td>0.0</td>\n",
       "      <td>0.0</td>\n",
       "      <td>1.0</td>\n",
       "      <td>1.0</td>\n",
       "      <td>...</td>\n",
       "      <td>1.0</td>\n",
       "      <td>0.0</td>\n",
       "      <td>3.0</td>\n",
       "      <td>0.0</td>\n",
       "      <td>3.0</td>\n",
       "      <td>0.0</td>\n",
       "      <td>1.0</td>\n",
       "      <td>11.0</td>\n",
       "      <td>6.0</td>\n",
       "      <td>8.0</td>\n",
       "    </tr>\n",
       "    <tr>\n",
       "      <th>4</th>\n",
       "      <td>0.0</td>\n",
       "      <td>0.0</td>\n",
       "      <td>0.0</td>\n",
       "      <td>1.0</td>\n",
       "      <td>29.0</td>\n",
       "      <td>1.0</td>\n",
       "      <td>0.0</td>\n",
       "      <td>0.0</td>\n",
       "      <td>1.0</td>\n",
       "      <td>1.0</td>\n",
       "      <td>...</td>\n",
       "      <td>1.0</td>\n",
       "      <td>0.0</td>\n",
       "      <td>2.0</td>\n",
       "      <td>0.0</td>\n",
       "      <td>0.0</td>\n",
       "      <td>0.0</td>\n",
       "      <td>0.0</td>\n",
       "      <td>8.0</td>\n",
       "      <td>5.0</td>\n",
       "      <td>8.0</td>\n",
       "    </tr>\n",
       "    <tr>\n",
       "      <th>...</th>\n",
       "      <td>...</td>\n",
       "      <td>...</td>\n",
       "      <td>...</td>\n",
       "      <td>...</td>\n",
       "      <td>...</td>\n",
       "      <td>...</td>\n",
       "      <td>...</td>\n",
       "      <td>...</td>\n",
       "      <td>...</td>\n",
       "      <td>...</td>\n",
       "      <td>...</td>\n",
       "      <td>...</td>\n",
       "      <td>...</td>\n",
       "      <td>...</td>\n",
       "      <td>...</td>\n",
       "      <td>...</td>\n",
       "      <td>...</td>\n",
       "      <td>...</td>\n",
       "      <td>...</td>\n",
       "      <td>...</td>\n",
       "      <td>...</td>\n",
       "    </tr>\n",
       "    <tr>\n",
       "      <th>70687</th>\n",
       "      <td>1.0</td>\n",
       "      <td>0.0</td>\n",
       "      <td>1.0</td>\n",
       "      <td>1.0</td>\n",
       "      <td>37.0</td>\n",
       "      <td>0.0</td>\n",
       "      <td>0.0</td>\n",
       "      <td>0.0</td>\n",
       "      <td>0.0</td>\n",
       "      <td>0.0</td>\n",
       "      <td>...</td>\n",
       "      <td>1.0</td>\n",
       "      <td>0.0</td>\n",
       "      <td>4.0</td>\n",
       "      <td>0.0</td>\n",
       "      <td>0.0</td>\n",
       "      <td>0.0</td>\n",
       "      <td>0.0</td>\n",
       "      <td>6.0</td>\n",
       "      <td>4.0</td>\n",
       "      <td>1.0</td>\n",
       "    </tr>\n",
       "    <tr>\n",
       "      <th>70688</th>\n",
       "      <td>1.0</td>\n",
       "      <td>0.0</td>\n",
       "      <td>1.0</td>\n",
       "      <td>1.0</td>\n",
       "      <td>29.0</td>\n",
       "      <td>1.0</td>\n",
       "      <td>0.0</td>\n",
       "      <td>1.0</td>\n",
       "      <td>0.0</td>\n",
       "      <td>1.0</td>\n",
       "      <td>...</td>\n",
       "      <td>1.0</td>\n",
       "      <td>0.0</td>\n",
       "      <td>2.0</td>\n",
       "      <td>0.0</td>\n",
       "      <td>0.0</td>\n",
       "      <td>1.0</td>\n",
       "      <td>1.0</td>\n",
       "      <td>10.0</td>\n",
       "      <td>3.0</td>\n",
       "      <td>6.0</td>\n",
       "    </tr>\n",
       "    <tr>\n",
       "      <th>70689</th>\n",
       "      <td>1.0</td>\n",
       "      <td>1.0</td>\n",
       "      <td>1.0</td>\n",
       "      <td>1.0</td>\n",
       "      <td>25.0</td>\n",
       "      <td>0.0</td>\n",
       "      <td>0.0</td>\n",
       "      <td>1.0</td>\n",
       "      <td>0.0</td>\n",
       "      <td>1.0</td>\n",
       "      <td>...</td>\n",
       "      <td>1.0</td>\n",
       "      <td>0.0</td>\n",
       "      <td>5.0</td>\n",
       "      <td>15.0</td>\n",
       "      <td>0.0</td>\n",
       "      <td>1.0</td>\n",
       "      <td>0.0</td>\n",
       "      <td>13.0</td>\n",
       "      <td>6.0</td>\n",
       "      <td>4.0</td>\n",
       "    </tr>\n",
       "    <tr>\n",
       "      <th>70690</th>\n",
       "      <td>1.0</td>\n",
       "      <td>1.0</td>\n",
       "      <td>1.0</td>\n",
       "      <td>1.0</td>\n",
       "      <td>18.0</td>\n",
       "      <td>0.0</td>\n",
       "      <td>0.0</td>\n",
       "      <td>0.0</td>\n",
       "      <td>0.0</td>\n",
       "      <td>0.0</td>\n",
       "      <td>...</td>\n",
       "      <td>1.0</td>\n",
       "      <td>0.0</td>\n",
       "      <td>4.0</td>\n",
       "      <td>0.0</td>\n",
       "      <td>0.0</td>\n",
       "      <td>1.0</td>\n",
       "      <td>0.0</td>\n",
       "      <td>11.0</td>\n",
       "      <td>2.0</td>\n",
       "      <td>4.0</td>\n",
       "    </tr>\n",
       "    <tr>\n",
       "      <th>70691</th>\n",
       "      <td>1.0</td>\n",
       "      <td>1.0</td>\n",
       "      <td>1.0</td>\n",
       "      <td>1.0</td>\n",
       "      <td>25.0</td>\n",
       "      <td>0.0</td>\n",
       "      <td>0.0</td>\n",
       "      <td>1.0</td>\n",
       "      <td>1.0</td>\n",
       "      <td>1.0</td>\n",
       "      <td>...</td>\n",
       "      <td>1.0</td>\n",
       "      <td>0.0</td>\n",
       "      <td>2.0</td>\n",
       "      <td>0.0</td>\n",
       "      <td>0.0</td>\n",
       "      <td>0.0</td>\n",
       "      <td>0.0</td>\n",
       "      <td>9.0</td>\n",
       "      <td>6.0</td>\n",
       "      <td>2.0</td>\n",
       "    </tr>\n",
       "  </tbody>\n",
       "</table>\n",
       "<p>69057 rows × 22 columns</p>\n",
       "</div>"
      ],
      "text/plain": [
       "       Diabetes_binary  HighBP  HighChol  CholCheck   BMI  Smoker  Stroke  \\\n",
       "0                  0.0     1.0       0.0        1.0  26.0     0.0     0.0   \n",
       "1                  0.0     1.0       1.0        1.0  26.0     1.0     1.0   \n",
       "2                  0.0     0.0       0.0        1.0  26.0     0.0     0.0   \n",
       "3                  0.0     1.0       1.0        1.0  28.0     1.0     0.0   \n",
       "4                  0.0     0.0       0.0        1.0  29.0     1.0     0.0   \n",
       "...                ...     ...       ...        ...   ...     ...     ...   \n",
       "70687              1.0     0.0       1.0        1.0  37.0     0.0     0.0   \n",
       "70688              1.0     0.0       1.0        1.0  29.0     1.0     0.0   \n",
       "70689              1.0     1.0       1.0        1.0  25.0     0.0     0.0   \n",
       "70690              1.0     1.0       1.0        1.0  18.0     0.0     0.0   \n",
       "70691              1.0     1.0       1.0        1.0  25.0     0.0     0.0   \n",
       "\n",
       "       HeartDiseaseorAttack  PhysActivity  Fruits  ...  AnyHealthcare  \\\n",
       "0                       0.0           1.0     0.0  ...            1.0   \n",
       "1                       0.0           0.0     1.0  ...            1.0   \n",
       "2                       0.0           1.0     1.0  ...            1.0   \n",
       "3                       0.0           1.0     1.0  ...            1.0   \n",
       "4                       0.0           1.0     1.0  ...            1.0   \n",
       "...                     ...           ...     ...  ...            ...   \n",
       "70687                   0.0           0.0     0.0  ...            1.0   \n",
       "70688                   1.0           0.0     1.0  ...            1.0   \n",
       "70689                   1.0           0.0     1.0  ...            1.0   \n",
       "70690                   0.0           0.0     0.0  ...            1.0   \n",
       "70691                   1.0           1.0     1.0  ...            1.0   \n",
       "\n",
       "       NoDocbcCost  GenHlth  MentHlth  PhysHlth  DiffWalk  Sex   Age  \\\n",
       "0              0.0      3.0       5.0      30.0       0.0  1.0   4.0   \n",
       "1              0.0      3.0       0.0       0.0       0.0  1.0  12.0   \n",
       "2              0.0      1.0       0.0      10.0       0.0  1.0  13.0   \n",
       "3              0.0      3.0       0.0       3.0       0.0  1.0  11.0   \n",
       "4              0.0      2.0       0.0       0.0       0.0  0.0   8.0   \n",
       "...            ...      ...       ...       ...       ...  ...   ...   \n",
       "70687          0.0      4.0       0.0       0.0       0.0  0.0   6.0   \n",
       "70688          0.0      2.0       0.0       0.0       1.0  1.0  10.0   \n",
       "70689          0.0      5.0      15.0       0.0       1.0  0.0  13.0   \n",
       "70690          0.0      4.0       0.0       0.0       1.0  0.0  11.0   \n",
       "70691          0.0      2.0       0.0       0.0       0.0  0.0   9.0   \n",
       "\n",
       "       Education  Income  \n",
       "0            6.0     8.0  \n",
       "1            6.0     8.0  \n",
       "2            6.0     8.0  \n",
       "3            6.0     8.0  \n",
       "4            5.0     8.0  \n",
       "...          ...     ...  \n",
       "70687        4.0     1.0  \n",
       "70688        3.0     6.0  \n",
       "70689        6.0     4.0  \n",
       "70690        2.0     4.0  \n",
       "70691        6.0     2.0  \n",
       "\n",
       "[69057 rows x 22 columns]"
      ]
     },
     "execution_count": 11,
     "metadata": {},
     "output_type": "execute_result"
    }
   ],
   "source": [
    "df_new"
   ]
  },
  {
   "cell_type": "markdown",
   "id": "8b1f6592",
   "metadata": {},
   "source": [
    "### Understanding Data using Visualizations / EDA"
   ]
  },
  {
   "cell_type": "code",
   "execution_count": 85,
   "id": "212f7e74",
   "metadata": {},
   "outputs": [
    {
     "data": {
      "text/html": [
       "<div>\n",
       "<style scoped>\n",
       "    .dataframe tbody tr th:only-of-type {\n",
       "        vertical-align: middle;\n",
       "    }\n",
       "\n",
       "    .dataframe tbody tr th {\n",
       "        vertical-align: top;\n",
       "    }\n",
       "\n",
       "    .dataframe thead th {\n",
       "        text-align: right;\n",
       "    }\n",
       "</style>\n",
       "<table border=\"1\" class=\"dataframe\">\n",
       "  <thead>\n",
       "    <tr style=\"text-align: right;\">\n",
       "      <th></th>\n",
       "      <th>Diabetes_binary</th>\n",
       "      <th>HighBP</th>\n",
       "      <th>HighChol</th>\n",
       "      <th>CholCheck</th>\n",
       "      <th>BMI</th>\n",
       "      <th>Smoker</th>\n",
       "      <th>Stroke</th>\n",
       "      <th>HeartDiseaseorAttack</th>\n",
       "      <th>PhysActivity</th>\n",
       "      <th>Fruits</th>\n",
       "      <th>...</th>\n",
       "      <th>AnyHealthcare</th>\n",
       "      <th>NoDocbcCost</th>\n",
       "      <th>GenHlth</th>\n",
       "      <th>MentHlth</th>\n",
       "      <th>PhysHlth</th>\n",
       "      <th>DiffWalk</th>\n",
       "      <th>Sex</th>\n",
       "      <th>Age</th>\n",
       "      <th>Education</th>\n",
       "      <th>Income</th>\n",
       "    </tr>\n",
       "  </thead>\n",
       "  <tbody>\n",
       "    <tr>\n",
       "      <th>Income</th>\n",
       "      <td>-0.212846</td>\n",
       "      <td>-0.176360</td>\n",
       "      <td>-0.098712</td>\n",
       "      <td>0.005067</td>\n",
       "      <td>-0.113706</td>\n",
       "      <td>-0.093897</td>\n",
       "      <td>-0.132637</td>\n",
       "      <td>-0.140702</td>\n",
       "      <td>0.186052</td>\n",
       "      <td>0.068603</td>\n",
       "      <td>...</td>\n",
       "      <td>0.127422</td>\n",
       "      <td>-0.193669</td>\n",
       "      <td>-0.370204</td>\n",
       "      <td>-0.212170</td>\n",
       "      <td>-0.271148</td>\n",
       "      <td>-0.335819</td>\n",
       "      <td>0.161566</td>\n",
       "      <td>-0.124261</td>\n",
       "      <td>0.450376</td>\n",
       "      <td>1.000000</td>\n",
       "    </tr>\n",
       "    <tr>\n",
       "      <th>Education</th>\n",
       "      <td>-0.158522</td>\n",
       "      <td>-0.130037</td>\n",
       "      <td>-0.075364</td>\n",
       "      <td>-0.011266</td>\n",
       "      <td>-0.089112</td>\n",
       "      <td>-0.130790</td>\n",
       "      <td>-0.069602</td>\n",
       "      <td>-0.090403</td>\n",
       "      <td>0.180159</td>\n",
       "      <td>0.089283</td>\n",
       "      <td>...</td>\n",
       "      <td>0.103564</td>\n",
       "      <td>-0.091678</td>\n",
       "      <td>-0.271037</td>\n",
       "      <td>-0.099237</td>\n",
       "      <td>-0.150105</td>\n",
       "      <td>-0.193869</td>\n",
       "      <td>0.042964</td>\n",
       "      <td>-0.101774</td>\n",
       "      <td>1.000000</td>\n",
       "      <td>0.450376</td>\n",
       "    </tr>\n",
       "    <tr>\n",
       "      <th>PhysActivity</th>\n",
       "      <td>-0.150281</td>\n",
       "      <td>-0.128307</td>\n",
       "      <td>-0.084469</td>\n",
       "      <td>-0.010072</td>\n",
       "      <td>-0.164179</td>\n",
       "      <td>-0.072401</td>\n",
       "      <td>-0.076771</td>\n",
       "      <td>-0.093858</td>\n",
       "      <td>1.000000</td>\n",
       "      <td>0.127578</td>\n",
       "      <td>...</td>\n",
       "      <td>0.024168</td>\n",
       "      <td>-0.059079</td>\n",
       "      <td>-0.264142</td>\n",
       "      <td>-0.124535</td>\n",
       "      <td>-0.228329</td>\n",
       "      <td>-0.270988</td>\n",
       "      <td>0.052069</td>\n",
       "      <td>-0.097456</td>\n",
       "      <td>0.180159</td>\n",
       "      <td>0.186052</td>\n",
       "    </tr>\n",
       "    <tr>\n",
       "      <th>HvyAlcoholConsump</th>\n",
       "      <td>-0.098709</td>\n",
       "      <td>-0.029764</td>\n",
       "      <td>-0.027259</td>\n",
       "      <td>-0.026850</td>\n",
       "      <td>-0.060795</td>\n",
       "      <td>0.076394</td>\n",
       "      <td>-0.024496</td>\n",
       "      <td>-0.038745</td>\n",
       "      <td>0.021624</td>\n",
       "      <td>-0.031518</td>\n",
       "      <td>...</td>\n",
       "      <td>-0.012691</td>\n",
       "      <td>0.008453</td>\n",
       "      <td>-0.063705</td>\n",
       "      <td>0.013914</td>\n",
       "      <td>-0.038739</td>\n",
       "      <td>-0.051894</td>\n",
       "      <td>0.015437</td>\n",
       "      <td>-0.059553</td>\n",
       "      <td>0.039971</td>\n",
       "      <td>0.068505</td>\n",
       "    </tr>\n",
       "    <tr>\n",
       "      <th>Veggies</th>\n",
       "      <td>-0.072181</td>\n",
       "      <td>-0.059824</td>\n",
       "      <td>-0.037801</td>\n",
       "      <td>-0.001040</td>\n",
       "      <td>-0.050163</td>\n",
       "      <td>-0.023760</td>\n",
       "      <td>-0.044869</td>\n",
       "      <td>-0.032327</td>\n",
       "      <td>0.143392</td>\n",
       "      <td>0.234505</td>\n",
       "      <td>...</td>\n",
       "      <td>0.026832</td>\n",
       "      <td>-0.033643</td>\n",
       "      <td>-0.106136</td>\n",
       "      <td>-0.047458</td>\n",
       "      <td>-0.060875</td>\n",
       "      <td>-0.078098</td>\n",
       "      <td>-0.053422</td>\n",
       "      <td>-0.015762</td>\n",
       "      <td>0.144755</td>\n",
       "      <td>0.146442</td>\n",
       "    </tr>\n",
       "    <tr>\n",
       "      <th>Fruits</th>\n",
       "      <td>-0.044560</td>\n",
       "      <td>-0.031818</td>\n",
       "      <td>-0.040783</td>\n",
       "      <td>0.015853</td>\n",
       "      <td>-0.076933</td>\n",
       "      <td>-0.068192</td>\n",
       "      <td>-0.005811</td>\n",
       "      <td>-0.014931</td>\n",
       "      <td>0.127578</td>\n",
       "      <td>1.000000</td>\n",
       "      <td>...</td>\n",
       "      <td>0.026964</td>\n",
       "      <td>-0.042215</td>\n",
       "      <td>-0.086836</td>\n",
       "      <td>-0.057019</td>\n",
       "      <td>-0.041836</td>\n",
       "      <td>-0.044017</td>\n",
       "      <td>-0.088017</td>\n",
       "      <td>0.066048</td>\n",
       "      <td>0.089283</td>\n",
       "      <td>0.068603</td>\n",
       "    </tr>\n",
       "    <tr>\n",
       "      <th>AnyHealthcare</th>\n",
       "      <td>0.027034</td>\n",
       "      <td>0.039659</td>\n",
       "      <td>0.034352</td>\n",
       "      <td>0.106549</td>\n",
       "      <td>-0.010527</td>\n",
       "      <td>-0.010228</td>\n",
       "      <td>0.007801</td>\n",
       "      <td>0.017603</td>\n",
       "      <td>0.024168</td>\n",
       "      <td>0.026964</td>\n",
       "      <td>...</td>\n",
       "      <td>1.000000</td>\n",
       "      <td>-0.220451</td>\n",
       "      <td>-0.028477</td>\n",
       "      <td>-0.047689</td>\n",
       "      <td>-0.000416</td>\n",
       "      <td>0.011066</td>\n",
       "      <td>-0.006804</td>\n",
       "      <td>0.139838</td>\n",
       "      <td>0.103564</td>\n",
       "      <td>0.127422</td>\n",
       "    </tr>\n",
       "    <tr>\n",
       "      <th>NoDocbcCost</th>\n",
       "      <td>0.036145</td>\n",
       "      <td>0.021802</td>\n",
       "      <td>0.029976</td>\n",
       "      <td>-0.061975</td>\n",
       "      <td>0.061861</td>\n",
       "      <td>0.031896</td>\n",
       "      <td>0.034305</td>\n",
       "      <td>0.033397</td>\n",
       "      <td>-0.059079</td>\n",
       "      <td>-0.042215</td>\n",
       "      <td>...</td>\n",
       "      <td>-0.220451</td>\n",
       "      <td>1.000000</td>\n",
       "      <td>0.164758</td>\n",
       "      <td>0.191108</td>\n",
       "      <td>0.153952</td>\n",
       "      <td>0.123415</td>\n",
       "      <td>-0.048469</td>\n",
       "      <td>-0.133527</td>\n",
       "      <td>-0.091678</td>\n",
       "      <td>-0.193669</td>\n",
       "    </tr>\n",
       "    <tr>\n",
       "      <th>Sex</th>\n",
       "      <td>0.042538</td>\n",
       "      <td>0.037824</td>\n",
       "      <td>0.013250</td>\n",
       "      <td>-0.008116</td>\n",
       "      <td>-0.002822</td>\n",
       "      <td>0.113422</td>\n",
       "      <td>0.004149</td>\n",
       "      <td>0.099020</td>\n",
       "      <td>0.052069</td>\n",
       "      <td>-0.088017</td>\n",
       "      <td>...</td>\n",
       "      <td>-0.006804</td>\n",
       "      <td>-0.048469</td>\n",
       "      <td>-0.016880</td>\n",
       "      <td>-0.089926</td>\n",
       "      <td>-0.045929</td>\n",
       "      <td>-0.082858</td>\n",
       "      <td>1.000000</td>\n",
       "      <td>-0.004755</td>\n",
       "      <td>0.042964</td>\n",
       "      <td>0.161566</td>\n",
       "    </tr>\n",
       "    <tr>\n",
       "      <th>Smoker</th>\n",
       "      <td>0.075853</td>\n",
       "      <td>0.078123</td>\n",
       "      <td>0.086522</td>\n",
       "      <td>-0.002854</td>\n",
       "      <td>0.002761</td>\n",
       "      <td>1.000000</td>\n",
       "      <td>0.061957</td>\n",
       "      <td>0.120457</td>\n",
       "      <td>-0.072401</td>\n",
       "      <td>-0.068192</td>\n",
       "      <td>...</td>\n",
       "      <td>-0.010228</td>\n",
       "      <td>0.031896</td>\n",
       "      <td>0.140658</td>\n",
       "      <td>0.086354</td>\n",
       "      <td>0.114730</td>\n",
       "      <td>0.113713</td>\n",
       "      <td>0.113422</td>\n",
       "      <td>0.099699</td>\n",
       "      <td>-0.130790</td>\n",
       "      <td>-0.093897</td>\n",
       "    </tr>\n",
       "    <tr>\n",
       "      <th>MentHlth</th>\n",
       "      <td>0.080688</td>\n",
       "      <td>0.058133</td>\n",
       "      <td>0.079929</td>\n",
       "      <td>-0.009365</td>\n",
       "      <td>0.099286</td>\n",
       "      <td>0.086354</td>\n",
       "      <td>0.084800</td>\n",
       "      <td>0.071530</td>\n",
       "      <td>-0.124535</td>\n",
       "      <td>-0.057019</td>\n",
       "      <td>...</td>\n",
       "      <td>-0.047689</td>\n",
       "      <td>0.191108</td>\n",
       "      <td>0.310093</td>\n",
       "      <td>1.000000</td>\n",
       "      <td>0.376625</td>\n",
       "      <td>0.246948</td>\n",
       "      <td>-0.089926</td>\n",
       "      <td>-0.106158</td>\n",
       "      <td>-0.099237</td>\n",
       "      <td>-0.212170</td>\n",
       "    </tr>\n",
       "    <tr>\n",
       "      <th>CholCheck</th>\n",
       "      <td>0.118900</td>\n",
       "      <td>0.106593</td>\n",
       "      <td>0.088231</td>\n",
       "      <td>1.000000</td>\n",
       "      <td>0.047779</td>\n",
       "      <td>-0.002854</td>\n",
       "      <td>0.023368</td>\n",
       "      <td>0.044795</td>\n",
       "      <td>-0.010072</td>\n",
       "      <td>0.015853</td>\n",
       "      <td>...</td>\n",
       "      <td>0.106549</td>\n",
       "      <td>-0.061975</td>\n",
       "      <td>0.063116</td>\n",
       "      <td>-0.009365</td>\n",
       "      <td>0.036442</td>\n",
       "      <td>0.046421</td>\n",
       "      <td>-0.008116</td>\n",
       "      <td>0.103414</td>\n",
       "      <td>-0.011266</td>\n",
       "      <td>0.005067</td>\n",
       "    </tr>\n",
       "    <tr>\n",
       "      <th>Stroke</th>\n",
       "      <td>0.122727</td>\n",
       "      <td>0.126869</td>\n",
       "      <td>0.098166</td>\n",
       "      <td>0.023368</td>\n",
       "      <td>0.019503</td>\n",
       "      <td>0.061957</td>\n",
       "      <td>1.000000</td>\n",
       "      <td>0.222062</td>\n",
       "      <td>-0.076771</td>\n",
       "      <td>-0.005811</td>\n",
       "      <td>...</td>\n",
       "      <td>0.007801</td>\n",
       "      <td>0.034305</td>\n",
       "      <td>0.186537</td>\n",
       "      <td>0.084800</td>\n",
       "      <td>0.161824</td>\n",
       "      <td>0.189714</td>\n",
       "      <td>0.004149</td>\n",
       "      <td>0.123344</td>\n",
       "      <td>-0.069602</td>\n",
       "      <td>-0.132637</td>\n",
       "    </tr>\n",
       "    <tr>\n",
       "      <th>PhysHlth</th>\n",
       "      <td>0.206868</td>\n",
       "      <td>0.167821</td>\n",
       "      <td>0.138266</td>\n",
       "      <td>0.036442</td>\n",
       "      <td>0.155661</td>\n",
       "      <td>0.114730</td>\n",
       "      <td>0.161824</td>\n",
       "      <td>0.194963</td>\n",
       "      <td>-0.228329</td>\n",
       "      <td>-0.041836</td>\n",
       "      <td>...</td>\n",
       "      <td>-0.000416</td>\n",
       "      <td>0.153952</td>\n",
       "      <td>0.550138</td>\n",
       "      <td>0.376625</td>\n",
       "      <td>1.000000</td>\n",
       "      <td>0.484092</td>\n",
       "      <td>-0.045929</td>\n",
       "      <td>0.081847</td>\n",
       "      <td>-0.150105</td>\n",
       "      <td>-0.271148</td>\n",
       "    </tr>\n",
       "    <tr>\n",
       "      <th>HeartDiseaseorAttack</th>\n",
       "      <td>0.207229</td>\n",
       "      <td>0.206776</td>\n",
       "      <td>0.178207</td>\n",
       "      <td>0.044795</td>\n",
       "      <td>0.055345</td>\n",
       "      <td>0.120457</td>\n",
       "      <td>0.222062</td>\n",
       "      <td>1.000000</td>\n",
       "      <td>-0.093858</td>\n",
       "      <td>-0.014931</td>\n",
       "      <td>...</td>\n",
       "      <td>0.017603</td>\n",
       "      <td>0.033397</td>\n",
       "      <td>0.271502</td>\n",
       "      <td>0.071530</td>\n",
       "      <td>0.194963</td>\n",
       "      <td>0.229188</td>\n",
       "      <td>0.099020</td>\n",
       "      <td>0.220790</td>\n",
       "      <td>-0.090403</td>\n",
       "      <td>-0.140702</td>\n",
       "    </tr>\n",
       "    <tr>\n",
       "      <th>DiffWalk</th>\n",
       "      <td>0.267082</td>\n",
       "      <td>0.229638</td>\n",
       "      <td>0.157859</td>\n",
       "      <td>0.046421</td>\n",
       "      <td>0.240667</td>\n",
       "      <td>0.113713</td>\n",
       "      <td>0.189714</td>\n",
       "      <td>0.229188</td>\n",
       "      <td>-0.270988</td>\n",
       "      <td>-0.044017</td>\n",
       "      <td>...</td>\n",
       "      <td>0.011066</td>\n",
       "      <td>0.123415</td>\n",
       "      <td>0.472338</td>\n",
       "      <td>0.246948</td>\n",
       "      <td>0.484092</td>\n",
       "      <td>1.000000</td>\n",
       "      <td>-0.082858</td>\n",
       "      <td>0.193669</td>\n",
       "      <td>-0.193869</td>\n",
       "      <td>-0.335819</td>\n",
       "    </tr>\n",
       "    <tr>\n",
       "      <th>Age</th>\n",
       "      <td>0.274550</td>\n",
       "      <td>0.333721</td>\n",
       "      <td>0.235779</td>\n",
       "      <td>0.103414</td>\n",
       "      <td>-0.045130</td>\n",
       "      <td>0.099699</td>\n",
       "      <td>0.123344</td>\n",
       "      <td>0.220790</td>\n",
       "      <td>-0.097456</td>\n",
       "      <td>0.066048</td>\n",
       "      <td>...</td>\n",
       "      <td>0.139838</td>\n",
       "      <td>-0.133527</td>\n",
       "      <td>0.149216</td>\n",
       "      <td>-0.106158</td>\n",
       "      <td>0.081847</td>\n",
       "      <td>0.193669</td>\n",
       "      <td>-0.004755</td>\n",
       "      <td>1.000000</td>\n",
       "      <td>-0.101774</td>\n",
       "      <td>-0.124261</td>\n",
       "    </tr>\n",
       "    <tr>\n",
       "      <th>HighChol</th>\n",
       "      <td>0.281399</td>\n",
       "      <td>0.308987</td>\n",
       "      <td>1.000000</td>\n",
       "      <td>0.088231</td>\n",
       "      <td>0.123917</td>\n",
       "      <td>0.086522</td>\n",
       "      <td>0.098166</td>\n",
       "      <td>0.178207</td>\n",
       "      <td>-0.084469</td>\n",
       "      <td>-0.040783</td>\n",
       "      <td>...</td>\n",
       "      <td>0.034352</td>\n",
       "      <td>0.029976</td>\n",
       "      <td>0.227588</td>\n",
       "      <td>0.079929</td>\n",
       "      <td>0.138266</td>\n",
       "      <td>0.157859</td>\n",
       "      <td>0.013250</td>\n",
       "      <td>0.235779</td>\n",
       "      <td>-0.075364</td>\n",
       "      <td>-0.098712</td>\n",
       "    </tr>\n",
       "    <tr>\n",
       "      <th>BMI</th>\n",
       "      <td>0.285643</td>\n",
       "      <td>0.232372</td>\n",
       "      <td>0.123917</td>\n",
       "      <td>0.047779</td>\n",
       "      <td>1.000000</td>\n",
       "      <td>0.002761</td>\n",
       "      <td>0.019503</td>\n",
       "      <td>0.055345</td>\n",
       "      <td>-0.164179</td>\n",
       "      <td>-0.076933</td>\n",
       "      <td>...</td>\n",
       "      <td>-0.010527</td>\n",
       "      <td>0.061861</td>\n",
       "      <td>0.256642</td>\n",
       "      <td>0.099286</td>\n",
       "      <td>0.155661</td>\n",
       "      <td>0.240667</td>\n",
       "      <td>-0.002822</td>\n",
       "      <td>-0.045130</td>\n",
       "      <td>-0.089112</td>\n",
       "      <td>-0.113706</td>\n",
       "    </tr>\n",
       "    <tr>\n",
       "      <th>HighBP</th>\n",
       "      <td>0.372048</td>\n",
       "      <td>1.000000</td>\n",
       "      <td>0.308987</td>\n",
       "      <td>0.106593</td>\n",
       "      <td>0.232372</td>\n",
       "      <td>0.078123</td>\n",
       "      <td>0.126869</td>\n",
       "      <td>0.206776</td>\n",
       "      <td>-0.128307</td>\n",
       "      <td>-0.031818</td>\n",
       "      <td>...</td>\n",
       "      <td>0.039659</td>\n",
       "      <td>0.021802</td>\n",
       "      <td>0.308459</td>\n",
       "      <td>0.058133</td>\n",
       "      <td>0.167821</td>\n",
       "      <td>0.229638</td>\n",
       "      <td>0.037824</td>\n",
       "      <td>0.333721</td>\n",
       "      <td>-0.130037</td>\n",
       "      <td>-0.176360</td>\n",
       "    </tr>\n",
       "    <tr>\n",
       "      <th>GenHlth</th>\n",
       "      <td>0.396571</td>\n",
       "      <td>0.308459</td>\n",
       "      <td>0.227588</td>\n",
       "      <td>0.063116</td>\n",
       "      <td>0.256642</td>\n",
       "      <td>0.140658</td>\n",
       "      <td>0.186537</td>\n",
       "      <td>0.271502</td>\n",
       "      <td>-0.264142</td>\n",
       "      <td>-0.086836</td>\n",
       "      <td>...</td>\n",
       "      <td>-0.028477</td>\n",
       "      <td>0.164758</td>\n",
       "      <td>1.000000</td>\n",
       "      <td>0.310093</td>\n",
       "      <td>0.550138</td>\n",
       "      <td>0.472338</td>\n",
       "      <td>-0.016880</td>\n",
       "      <td>0.149216</td>\n",
       "      <td>-0.271037</td>\n",
       "      <td>-0.370204</td>\n",
       "    </tr>\n",
       "    <tr>\n",
       "      <th>Diabetes_binary</th>\n",
       "      <td>1.000000</td>\n",
       "      <td>0.372048</td>\n",
       "      <td>0.281399</td>\n",
       "      <td>0.118900</td>\n",
       "      <td>0.285643</td>\n",
       "      <td>0.075853</td>\n",
       "      <td>0.122727</td>\n",
       "      <td>0.207229</td>\n",
       "      <td>-0.150281</td>\n",
       "      <td>-0.044560</td>\n",
       "      <td>...</td>\n",
       "      <td>0.027034</td>\n",
       "      <td>0.036145</td>\n",
       "      <td>0.396571</td>\n",
       "      <td>0.080688</td>\n",
       "      <td>0.206868</td>\n",
       "      <td>0.267082</td>\n",
       "      <td>0.042538</td>\n",
       "      <td>0.274550</td>\n",
       "      <td>-0.158522</td>\n",
       "      <td>-0.212846</td>\n",
       "    </tr>\n",
       "  </tbody>\n",
       "</table>\n",
       "<p>22 rows × 22 columns</p>\n",
       "</div>"
      ],
      "text/plain": [
       "                      Diabetes_binary    HighBP  HighChol  CholCheck  \\\n",
       "Income                      -0.212846 -0.176360 -0.098712   0.005067   \n",
       "Education                   -0.158522 -0.130037 -0.075364  -0.011266   \n",
       "PhysActivity                -0.150281 -0.128307 -0.084469  -0.010072   \n",
       "HvyAlcoholConsump           -0.098709 -0.029764 -0.027259  -0.026850   \n",
       "Veggies                     -0.072181 -0.059824 -0.037801  -0.001040   \n",
       "Fruits                      -0.044560 -0.031818 -0.040783   0.015853   \n",
       "AnyHealthcare                0.027034  0.039659  0.034352   0.106549   \n",
       "NoDocbcCost                  0.036145  0.021802  0.029976  -0.061975   \n",
       "Sex                          0.042538  0.037824  0.013250  -0.008116   \n",
       "Smoker                       0.075853  0.078123  0.086522  -0.002854   \n",
       "MentHlth                     0.080688  0.058133  0.079929  -0.009365   \n",
       "CholCheck                    0.118900  0.106593  0.088231   1.000000   \n",
       "Stroke                       0.122727  0.126869  0.098166   0.023368   \n",
       "PhysHlth                     0.206868  0.167821  0.138266   0.036442   \n",
       "HeartDiseaseorAttack         0.207229  0.206776  0.178207   0.044795   \n",
       "DiffWalk                     0.267082  0.229638  0.157859   0.046421   \n",
       "Age                          0.274550  0.333721  0.235779   0.103414   \n",
       "HighChol                     0.281399  0.308987  1.000000   0.088231   \n",
       "BMI                          0.285643  0.232372  0.123917   0.047779   \n",
       "HighBP                       0.372048  1.000000  0.308987   0.106593   \n",
       "GenHlth                      0.396571  0.308459  0.227588   0.063116   \n",
       "Diabetes_binary              1.000000  0.372048  0.281399   0.118900   \n",
       "\n",
       "                           BMI    Smoker    Stroke  HeartDiseaseorAttack  \\\n",
       "Income               -0.113706 -0.093897 -0.132637             -0.140702   \n",
       "Education            -0.089112 -0.130790 -0.069602             -0.090403   \n",
       "PhysActivity         -0.164179 -0.072401 -0.076771             -0.093858   \n",
       "HvyAlcoholConsump    -0.060795  0.076394 -0.024496             -0.038745   \n",
       "Veggies              -0.050163 -0.023760 -0.044869             -0.032327   \n",
       "Fruits               -0.076933 -0.068192 -0.005811             -0.014931   \n",
       "AnyHealthcare        -0.010527 -0.010228  0.007801              0.017603   \n",
       "NoDocbcCost           0.061861  0.031896  0.034305              0.033397   \n",
       "Sex                  -0.002822  0.113422  0.004149              0.099020   \n",
       "Smoker                0.002761  1.000000  0.061957              0.120457   \n",
       "MentHlth              0.099286  0.086354  0.084800              0.071530   \n",
       "CholCheck             0.047779 -0.002854  0.023368              0.044795   \n",
       "Stroke                0.019503  0.061957  1.000000              0.222062   \n",
       "PhysHlth              0.155661  0.114730  0.161824              0.194963   \n",
       "HeartDiseaseorAttack  0.055345  0.120457  0.222062              1.000000   \n",
       "DiffWalk              0.240667  0.113713  0.189714              0.229188   \n",
       "Age                  -0.045130  0.099699  0.123344              0.220790   \n",
       "HighChol              0.123917  0.086522  0.098166              0.178207   \n",
       "BMI                   1.000000  0.002761  0.019503              0.055345   \n",
       "HighBP                0.232372  0.078123  0.126869              0.206776   \n",
       "GenHlth               0.256642  0.140658  0.186537              0.271502   \n",
       "Diabetes_binary       0.285643  0.075853  0.122727              0.207229   \n",
       "\n",
       "                      PhysActivity    Fruits  ...  AnyHealthcare  NoDocbcCost  \\\n",
       "Income                    0.186052  0.068603  ...       0.127422    -0.193669   \n",
       "Education                 0.180159  0.089283  ...       0.103564    -0.091678   \n",
       "PhysActivity              1.000000  0.127578  ...       0.024168    -0.059079   \n",
       "HvyAlcoholConsump         0.021624 -0.031518  ...      -0.012691     0.008453   \n",
       "Veggies                   0.143392  0.234505  ...       0.026832    -0.033643   \n",
       "Fruits                    0.127578  1.000000  ...       0.026964    -0.042215   \n",
       "AnyHealthcare             0.024168  0.026964  ...       1.000000    -0.220451   \n",
       "NoDocbcCost              -0.059079 -0.042215  ...      -0.220451     1.000000   \n",
       "Sex                       0.052069 -0.088017  ...      -0.006804    -0.048469   \n",
       "Smoker                   -0.072401 -0.068192  ...      -0.010228     0.031896   \n",
       "MentHlth                 -0.124535 -0.057019  ...      -0.047689     0.191108   \n",
       "CholCheck                -0.010072  0.015853  ...       0.106549    -0.061975   \n",
       "Stroke                   -0.076771 -0.005811  ...       0.007801     0.034305   \n",
       "PhysHlth                 -0.228329 -0.041836  ...      -0.000416     0.153952   \n",
       "HeartDiseaseorAttack     -0.093858 -0.014931  ...       0.017603     0.033397   \n",
       "DiffWalk                 -0.270988 -0.044017  ...       0.011066     0.123415   \n",
       "Age                      -0.097456  0.066048  ...       0.139838    -0.133527   \n",
       "HighChol                 -0.084469 -0.040783  ...       0.034352     0.029976   \n",
       "BMI                      -0.164179 -0.076933  ...      -0.010527     0.061861   \n",
       "HighBP                   -0.128307 -0.031818  ...       0.039659     0.021802   \n",
       "GenHlth                  -0.264142 -0.086836  ...      -0.028477     0.164758   \n",
       "Diabetes_binary          -0.150281 -0.044560  ...       0.027034     0.036145   \n",
       "\n",
       "                       GenHlth  MentHlth  PhysHlth  DiffWalk       Sex  \\\n",
       "Income               -0.370204 -0.212170 -0.271148 -0.335819  0.161566   \n",
       "Education            -0.271037 -0.099237 -0.150105 -0.193869  0.042964   \n",
       "PhysActivity         -0.264142 -0.124535 -0.228329 -0.270988  0.052069   \n",
       "HvyAlcoholConsump    -0.063705  0.013914 -0.038739 -0.051894  0.015437   \n",
       "Veggies              -0.106136 -0.047458 -0.060875 -0.078098 -0.053422   \n",
       "Fruits               -0.086836 -0.057019 -0.041836 -0.044017 -0.088017   \n",
       "AnyHealthcare        -0.028477 -0.047689 -0.000416  0.011066 -0.006804   \n",
       "NoDocbcCost           0.164758  0.191108  0.153952  0.123415 -0.048469   \n",
       "Sex                  -0.016880 -0.089926 -0.045929 -0.082858  1.000000   \n",
       "Smoker                0.140658  0.086354  0.114730  0.113713  0.113422   \n",
       "MentHlth              0.310093  1.000000  0.376625  0.246948 -0.089926   \n",
       "CholCheck             0.063116 -0.009365  0.036442  0.046421 -0.008116   \n",
       "Stroke                0.186537  0.084800  0.161824  0.189714  0.004149   \n",
       "PhysHlth              0.550138  0.376625  1.000000  0.484092 -0.045929   \n",
       "HeartDiseaseorAttack  0.271502  0.071530  0.194963  0.229188  0.099020   \n",
       "DiffWalk              0.472338  0.246948  0.484092  1.000000 -0.082858   \n",
       "Age                   0.149216 -0.106158  0.081847  0.193669 -0.004755   \n",
       "HighChol              0.227588  0.079929  0.138266  0.157859  0.013250   \n",
       "BMI                   0.256642  0.099286  0.155661  0.240667 -0.002822   \n",
       "HighBP                0.308459  0.058133  0.167821  0.229638  0.037824   \n",
       "GenHlth               1.000000  0.310093  0.550138  0.472338 -0.016880   \n",
       "Diabetes_binary       0.396571  0.080688  0.206868  0.267082  0.042538   \n",
       "\n",
       "                           Age  Education    Income  \n",
       "Income               -0.124261   0.450376  1.000000  \n",
       "Education            -0.101774   1.000000  0.450376  \n",
       "PhysActivity         -0.097456   0.180159  0.186052  \n",
       "HvyAlcoholConsump    -0.059553   0.039971  0.068505  \n",
       "Veggies              -0.015762   0.144755  0.146442  \n",
       "Fruits                0.066048   0.089283  0.068603  \n",
       "AnyHealthcare         0.139838   0.103564  0.127422  \n",
       "NoDocbcCost          -0.133527  -0.091678 -0.193669  \n",
       "Sex                  -0.004755   0.042964  0.161566  \n",
       "Smoker                0.099699  -0.130790 -0.093897  \n",
       "MentHlth             -0.106158  -0.099237 -0.212170  \n",
       "CholCheck             0.103414  -0.011266  0.005067  \n",
       "Stroke                0.123344  -0.069602 -0.132637  \n",
       "PhysHlth              0.081847  -0.150105 -0.271148  \n",
       "HeartDiseaseorAttack  0.220790  -0.090403 -0.140702  \n",
       "DiffWalk              0.193669  -0.193869 -0.335819  \n",
       "Age                   1.000000  -0.101774 -0.124261  \n",
       "HighChol              0.235779  -0.075364 -0.098712  \n",
       "BMI                  -0.045130  -0.089112 -0.113706  \n",
       "HighBP                0.333721  -0.130037 -0.176360  \n",
       "GenHlth               0.149216  -0.271037 -0.370204  \n",
       "Diabetes_binary       0.274550  -0.158522 -0.212846  \n",
       "\n",
       "[22 rows x 22 columns]"
      ]
     },
     "execution_count": 85,
     "metadata": {},
     "output_type": "execute_result"
    }
   ],
   "source": [
    "df_new.corr().sort_values('Diabetes_binary')"
   ]
  },
  {
   "cell_type": "code",
   "execution_count": 87,
   "id": "f1de8133",
   "metadata": {},
   "outputs": [
    {
     "data": {
      "image/png": "[encoded data removed]",
      "text/plain": [
       "<Figure size 1440x720 with 2 Axes>"
      ]
     },
     "metadata": {
      "needs_background": "light"
     },
     "output_type": "display_data"
    }
   ],
   "source": [
    "plt.figure(figsize = (20,10))\n",
    "sns.heatmap(df_new.corr(), cmap=\"RdBu\", annot=True)\n",
    "plt.title(\"Correlation between features\")\n",
    "plt.show()"
   ]
  },
  {
   "cell_type": "code",
   "execution_count": 107,
   "id": "056e5e27",
   "metadata": {},
   "outputs": [
    {
     "name": "stdout",
     "output_type": "stream",
     "text": [
      "{'HighBP': 2, 'HighChol': 2, 'CholCheck': 2, 'BMI': 80, 'Smoker': 2, 'Stroke': 2, 'HeartDiseaseorAttack': 2, 'PhysActivity': 2, 'Fruits': 2, 'Veggies': 2, 'HvyAlcoholConsump': 2, 'AnyHealthcare': 2, 'NoDocbcCost': 2, 'GenHlth': 5, 'MentHlth': 31, 'PhysHlth': 31, 'DiffWalk': 2, 'Sex': 2, 'Age': 13, 'Education': 6, 'Income': 8}\n"
     ]
    }
   ],
   "source": [
    "column_details = {}\n",
    "for column in df.columns:\n",
    "    if column != \"Diabetes_binary\":\n",
    "        column_details[column] = df.groupby([column]).count()[\"Diabetes_binary\"].shape[0]\n",
    "print(column_details)"
   ]
  },
  {
   "cell_type": "markdown",
   "id": "b6dc778d",
   "metadata": {},
   "source": [
    "**Note:** It Shows all the unique values in each column"
   ]
  },
  {
   "cell_type": "code",
   "execution_count": 109,
   "id": "3c4fb4f0",
   "metadata": {},
   "outputs": [
    {
     "name": "stderr",
     "output_type": "stream",
     "text": [
      "C:\\Users\\ZOHAIR\\anaconda3\\lib\\site-packages\\seaborn\\_decorators.py:36: FutureWarning: Pass the following variables as keyword args: x, y. From version 0.12, the only valid positional argument will be `data`, and passing other arguments without an explicit keyword will result in an error or misinterpretation.\n",
      "  warnings.warn(\n",
      "C:\\Users\\ZOHAIR\\anaconda3\\lib\\site-packages\\seaborn\\_decorators.py:36: FutureWarning: Pass the following variables as keyword args: x, y. From version 0.12, the only valid positional argument will be `data`, and passing other arguments without an explicit keyword will result in an error or misinterpretation.\n",
      "  warnings.warn(\n",
      "C:\\Users\\ZOHAIR\\anaconda3\\lib\\site-packages\\seaborn\\_decorators.py:36: FutureWarning: Pass the following variables as keyword args: x, y. From version 0.12, the only valid positional argument will be `data`, and passing other arguments without an explicit keyword will result in an error or misinterpretation.\n",
      "  warnings.warn(\n",
      "C:\\Users\\ZOHAIR\\anaconda3\\lib\\site-packages\\seaborn\\_decorators.py:36: FutureWarning: Pass the following variables as keyword args: x, y. From version 0.12, the only valid positional argument will be `data`, and passing other arguments without an explicit keyword will result in an error or misinterpretation.\n",
      "  warnings.warn(\n",
      "C:\\Users\\ZOHAIR\\anaconda3\\lib\\site-packages\\seaborn\\_decorators.py:36: FutureWarning: Pass the following variables as keyword args: x, y. From version 0.12, the only valid positional argument will be `data`, and passing other arguments without an explicit keyword will result in an error or misinterpretation.\n",
      "  warnings.warn(\n",
      "C:\\Users\\ZOHAIR\\anaconda3\\lib\\site-packages\\seaborn\\_decorators.py:36: FutureWarning: Pass the following variables as keyword args: x, y. From version 0.12, the only valid positional argument will be `data`, and passing other arguments without an explicit keyword will result in an error or misinterpretation.\n",
      "  warnings.warn(\n",
      "C:\\Users\\ZOHAIR\\anaconda3\\lib\\site-packages\\seaborn\\_decorators.py:36: FutureWarning: Pass the following variables as keyword args: x, y. From version 0.12, the only valid positional argument will be `data`, and passing other arguments without an explicit keyword will result in an error or misinterpretation.\n",
      "  warnings.warn(\n",
      "C:\\Users\\ZOHAIR\\anaconda3\\lib\\site-packages\\seaborn\\_decorators.py:36: FutureWarning: Pass the following variables as keyword args: x, y. From version 0.12, the only valid positional argument will be `data`, and passing other arguments without an explicit keyword will result in an error or misinterpretation.\n",
      "  warnings.warn(\n",
      "C:\\Users\\ZOHAIR\\anaconda3\\lib\\site-packages\\seaborn\\_decorators.py:36: FutureWarning: Pass the following variables as keyword args: x, y. From version 0.12, the only valid positional argument will be `data`, and passing other arguments without an explicit keyword will result in an error or misinterpretation.\n",
      "  warnings.warn(\n",
      "C:\\Users\\ZOHAIR\\anaconda3\\lib\\site-packages\\seaborn\\_decorators.py:36: FutureWarning: Pass the following variables as keyword args: x, y. From version 0.12, the only valid positional argument will be `data`, and passing other arguments without an explicit keyword will result in an error or misinterpretation.\n",
      "  warnings.warn(\n",
      "C:\\Users\\ZOHAIR\\anaconda3\\lib\\site-packages\\seaborn\\_decorators.py:36: FutureWarning: Pass the following variables as keyword args: x, y. From version 0.12, the only valid positional argument will be `data`, and passing other arguments without an explicit keyword will result in an error or misinterpretation.\n",
      "  warnings.warn(\n",
      "C:\\Users\\ZOHAIR\\anaconda3\\lib\\site-packages\\seaborn\\_decorators.py:36: FutureWarning: Pass the following variables as keyword args: x, y. From version 0.12, the only valid positional argument will be `data`, and passing other arguments without an explicit keyword will result in an error or misinterpretation.\n",
      "  warnings.warn(\n",
      "C:\\Users\\ZOHAIR\\anaconda3\\lib\\site-packages\\seaborn\\_decorators.py:36: FutureWarning: Pass the following variables as keyword args: x, y. From version 0.12, the only valid positional argument will be `data`, and passing other arguments without an explicit keyword will result in an error or misinterpretation.\n",
      "  warnings.warn(\n",
      "C:\\Users\\ZOHAIR\\anaconda3\\lib\\site-packages\\seaborn\\_decorators.py:36: FutureWarning: Pass the following variables as keyword args: x, y. From version 0.12, the only valid positional argument will be `data`, and passing other arguments without an explicit keyword will result in an error or misinterpretation.\n",
      "  warnings.warn(\n",
      "C:\\Users\\ZOHAIR\\anaconda3\\lib\\site-packages\\seaborn\\_decorators.py:36: FutureWarning: Pass the following variables as keyword args: x, y. From version 0.12, the only valid positional argument will be `data`, and passing other arguments without an explicit keyword will result in an error or misinterpretation.\n",
      "  warnings.warn(\n",
      "C:\\Users\\ZOHAIR\\anaconda3\\lib\\site-packages\\seaborn\\_decorators.py:36: FutureWarning: Pass the following variables as keyword args: x, y. From version 0.12, the only valid positional argument will be `data`, and passing other arguments without an explicit keyword will result in an error or misinterpretation.\n",
      "  warnings.warn(\n",
      "C:\\Users\\ZOHAIR\\anaconda3\\lib\\site-packages\\seaborn\\_decorators.py:36: FutureWarning: Pass the following variables as keyword args: x, y. From version 0.12, the only valid positional argument will be `data`, and passing other arguments without an explicit keyword will result in an error or misinterpretation.\n",
      "  warnings.warn(\n",
      "C:\\Users\\ZOHAIR\\anaconda3\\lib\\site-packages\\seaborn\\_decorators.py:36: FutureWarning: Pass the following variables as keyword args: x, y. From version 0.12, the only valid positional argument will be `data`, and passing other arguments without an explicit keyword will result in an error or misinterpretation.\n",
      "  warnings.warn(\n",
      "C:\\Users\\ZOHAIR\\anaconda3\\lib\\site-packages\\seaborn\\_decorators.py:36: FutureWarning: Pass the following variables as keyword args: x, y. From version 0.12, the only valid positional argument will be `data`, and passing other arguments without an explicit keyword will result in an error or misinterpretation.\n",
      "  warnings.warn(\n",
      "C:\\Users\\ZOHAIR\\anaconda3\\lib\\site-packages\\seaborn\\_decorators.py:36: FutureWarning: Pass the following variables as keyword args: x, y. From version 0.12, the only valid positional argument will be `data`, and passing other arguments without an explicit keyword will result in an error or misinterpretation.\n",
      "  warnings.warn(\n",
      "C:\\Users\\ZOHAIR\\anaconda3\\lib\\site-packages\\seaborn\\_decorators.py:36: FutureWarning: Pass the following variables as keyword args: x, y. From version 0.12, the only valid positional argument will be `data`, and passing other arguments without an explicit keyword will result in an error or misinterpretation.\n",
      "  warnings.warn(\n"
     ]
    },
    {
     "data": {
      "image/png": "[encoded data removed]",
      "text/plain": [
       "<Figure size 2160x3600 with 22 Axes>"
      ]
     },
     "metadata": {
      "needs_background": "light"
     },
     "output_type": "display_data"
    }
   ],
   "source": [
    "fig, ax = plt.subplots(11,2,figsize = (30,50))\n",
    "i=0\n",
    "for column in df.columns:\n",
    "    if column != \"Diabetes_binary\":\n",
    "        r = i // 2\n",
    "        c = i % 2\n",
    "        if column_details[column] > 2:\n",
    "            sns.scatterplot(df[\"Diabetes_binary\"], df[column], ax=ax[r][c])\n",
    "        if column_details[column] <= 2 :\n",
    "            sns.barplot(df[\"Diabetes_binary\"], df[column], ax=ax[r][c])\n",
    "        i=i+1\n",
    "            \n",
    "plt.show()"
   ]
  },
  {
   "cell_type": "markdown",
   "id": "00b51d2a",
   "metadata": {},
   "source": [
    "### Splitting Data"
   ]
  },
  {
   "cell_type": "code",
   "execution_count": 17,
   "id": "37f7624c",
   "metadata": {},
   "outputs": [
    {
     "name": "stdout",
     "output_type": "stream",
     "text": [
      "(69057, 21)\n",
      "(69057,)\n"
     ]
    }
   ],
   "source": [
    "X = df_new.drop('Diabetes_binary', axis = 1)\n",
    "Y = df_new['Diabetes_binary']\n",
    "print(X.shape)\n",
    "print(Y.shape)"
   ]
  },
  {
   "cell_type": "code",
   "execution_count": 18,
   "id": "e9dae218",
   "metadata": {},
   "outputs": [
    {
     "name": "stdout",
     "output_type": "stream",
     "text": [
      "(48339, 21)\n",
      "(20718, 21)\n",
      "(48339,)\n",
      "(20718,)\n"
     ]
    }
   ],
   "source": [
    "x_train, x_test, y_train, y_test = train_test_split(X, Y, test_size = 0.3, random_state = 42)\n",
    "print(x_train.shape)\n",
    "print(x_test.shape)\n",
    "print(y_train.shape)\n",
    "print(y_test.shape)"
   ]
  },
  {
   "cell_type": "markdown",
   "id": "e7b6f3da",
   "metadata": {},
   "source": [
    "### Modeling (with all features)"
   ]
  },
  {
   "cell_type": "markdown",
   "id": "d39f9b31",
   "metadata": {},
   "source": [
    "#### Random Forest"
   ]
  },
  {
   "cell_type": "code",
   "execution_count": 19,
   "id": "10e3419b",
   "metadata": {},
   "outputs": [
    {
     "name": "stderr",
     "output_type": "stream",
     "text": [
      "[Parallel(n_jobs=1)]: Using backend SequentialBackend with 1 concurrent workers.\n",
      "[Parallel(n_jobs=1)]: Done 100 out of 100 | elapsed:    5.4s finished\n",
      "[Parallel(n_jobs=1)]: Using backend SequentialBackend with 1 concurrent workers.\n",
      "[Parallel(n_jobs=1)]: Done 100 out of 100 | elapsed:    0.5s finished\n"
     ]
    },
    {
     "data": {
      "text/plain": [
       "0.7337098175499566"
      ]
     },
     "execution_count": 19,
     "metadata": {},
     "output_type": "execute_result"
    }
   ],
   "source": [
    "random_forest = RandomForestClassifier(random_state = 0, verbose = 1)\n",
    "random_forest.fit(x_train, y_train)\n",
    "random_forest.score(x_test, y_test)"
   ]
  },
  {
   "cell_type": "markdown",
   "id": "85d0ce05",
   "metadata": {},
   "source": [
    "**Note:** Default Settings"
   ]
  },
  {
   "cell_type": "code",
   "execution_count": 21,
   "id": "21353f45",
   "metadata": {},
   "outputs": [
    {
     "name": "stderr",
     "output_type": "stream",
     "text": [
      "[Parallel(n_jobs=1)]: Using backend SequentialBackend with 1 concurrent workers.\n",
      "[Parallel(n_jobs=1)]: Done 500 out of 500 | elapsed:   25.6s finished\n",
      "[Parallel(n_jobs=1)]: Using backend SequentialBackend with 1 concurrent workers.\n",
      "[Parallel(n_jobs=1)]: Done 500 out of 500 | elapsed:    3.4s finished\n"
     ]
    },
    {
     "data": {
      "text/plain": [
       "0.7370402548508543"
      ]
     },
     "execution_count": 21,
     "metadata": {},
     "output_type": "execute_result"
    }
   ],
   "source": [
    "random_forest = RandomForestClassifier(random_state = 0, verbose = 1, n_estimators=500)\n",
    "random_forest.fit(x_train, y_train)\n",
    "random_forest.score(x_test, y_test)"
   ]
  },
  {
   "cell_type": "markdown",
   "id": "0070067f",
   "metadata": {},
   "source": [
    "**Note:** Increased Models"
   ]
  },
  {
   "cell_type": "code",
   "execution_count": 22,
   "id": "7cfea5da",
   "metadata": {},
   "outputs": [
    {
     "name": "stderr",
     "output_type": "stream",
     "text": [
      "[Parallel(n_jobs=1)]: Using backend SequentialBackend with 1 concurrent workers.\n",
      "[Parallel(n_jobs=1)]: Done 500 out of 500 | elapsed:   27.8s finished\n",
      "[Parallel(n_jobs=1)]: Using backend SequentialBackend with 1 concurrent workers.\n",
      "[Parallel(n_jobs=1)]: Done 500 out of 500 | elapsed:    3.0s finished\n"
     ]
    },
    {
     "data": {
      "text/plain": [
       "0.7380055989960421"
      ]
     },
     "execution_count": 22,
     "metadata": {},
     "output_type": "execute_result"
    }
   ],
   "source": [
    "random_forest = RandomForestClassifier(random_state = 0, verbose = 1, n_estimators=500, criterion=\"entropy\")\n",
    "random_forest.fit(x_train, y_train)\n",
    "random_forest.score(x_test, y_test)"
   ]
  },
  {
   "cell_type": "markdown",
   "id": "ee740329",
   "metadata": {},
   "source": [
    "**Note:** Changed criteria to Entropy"
   ]
  },
  {
   "cell_type": "code",
   "execution_count": 23,
   "id": "cc51c636",
   "metadata": {},
   "outputs": [
    {
     "name": "stderr",
     "output_type": "stream",
     "text": [
      "[Parallel(n_jobs=1)]: Using backend SequentialBackend with 1 concurrent workers.\n",
      "[Parallel(n_jobs=1)]: Done 500 out of 500 | elapsed:   27.6s finished\n",
      "[Parallel(n_jobs=1)]: Using backend SequentialBackend with 1 concurrent workers.\n",
      "[Parallel(n_jobs=1)]: Done 500 out of 500 | elapsed:    2.9s finished\n"
     ]
    },
    {
     "data": {
      "text/plain": [
       "0.7380055989960421"
      ]
     },
     "execution_count": 23,
     "metadata": {},
     "output_type": "execute_result"
    }
   ],
   "source": [
    "random_forest = RandomForestClassifier(random_state = 0, verbose = 1, n_estimators=500, criterion=\"entropy\", max_features=\"log2\")\n",
    "random_forest.fit(x_train, y_train)\n",
    "random_forest.score(x_test, y_test)"
   ]
  },
  {
   "cell_type": "markdown",
   "id": "6eeea33c",
   "metadata": {},
   "source": [
    "**Note:** Changed Max Features to Log2 (no changes)"
   ]
  },
  {
   "cell_type": "code",
   "execution_count": 24,
   "id": "de517dd0",
   "metadata": {},
   "outputs": [
    {
     "name": "stderr",
     "output_type": "stream",
     "text": [
      "[Parallel(n_jobs=1)]: Using backend SequentialBackend with 1 concurrent workers.\n",
      "[Parallel(n_jobs=1)]: Done 500 out of 500 | elapsed:   45.6s finished\n",
      "[Parallel(n_jobs=1)]: Using backend SequentialBackend with 1 concurrent workers.\n",
      "[Parallel(n_jobs=1)]: Done 500 out of 500 | elapsed:    3.4s finished\n"
     ]
    },
    {
     "data": {
      "text/plain": [
       "0.7289313640312771"
      ]
     },
     "execution_count": 24,
     "metadata": {},
     "output_type": "execute_result"
    }
   ],
   "source": [
    "random_forest = RandomForestClassifier(random_state = 0, verbose = 1, n_estimators=500, criterion=\"entropy\", max_features=\"log2\", bootstrap=False)\n",
    "random_forest.fit(x_train, y_train)\n",
    "random_forest.score(x_test, y_test)"
   ]
  },
  {
   "cell_type": "markdown",
   "id": "e814f81a",
   "metadata": {},
   "source": [
    "**Note:** Changed Bootstrap to False, Accuracy decreased"
   ]
  },
  {
   "cell_type": "code",
   "execution_count": 25,
   "id": "6056fbe4",
   "metadata": {},
   "outputs": [
    {
     "name": "stderr",
     "output_type": "stream",
     "text": [
      "[Parallel(n_jobs=1)]: Using backend SequentialBackend with 1 concurrent workers.\n",
      "[Parallel(n_jobs=1)]: Done 1000 out of 1000 | elapsed:   26.5s finished\n",
      "[Parallel(n_jobs=1)]: Using backend SequentialBackend with 1 concurrent workers.\n",
      "[Parallel(n_jobs=1)]: Done 1000 out of 1000 | elapsed:    2.7s finished\n"
     ]
    },
    {
     "data": {
      "text/plain": [
       "0.7541268462206777"
      ]
     },
     "execution_count": 25,
     "metadata": {},
     "output_type": "execute_result"
    }
   ],
   "source": [
    "random_forest = RandomForestClassifier(random_state = 0, verbose = 1, n_estimators=1000, max_depth=10)\n",
    "random_forest.fit(x_train, y_train)\n",
    "random_forest.score(x_test, y_test)"
   ]
  },
  {
   "cell_type": "markdown",
   "id": "47b4aa6f",
   "metadata": {},
   "source": [
    "**Note:** Increased models with max depth 10, Accuracy increased"
   ]
  },
  {
   "cell_type": "markdown",
   "id": "10a53c4a",
   "metadata": {},
   "source": [
    "#### Confusion Matrix and Classification Report"
   ]
  },
  {
   "cell_type": "code",
   "execution_count": 27,
   "id": "47b4aebc",
   "metadata": {},
   "outputs": [
    {
     "name": "stderr",
     "output_type": "stream",
     "text": [
      "[Parallel(n_jobs=1)]: Using backend SequentialBackend with 1 concurrent workers.\n",
      "[Parallel(n_jobs=1)]: Done 1000 out of 1000 | elapsed:    2.7s finished\n"
     ]
    }
   ],
   "source": [
    "predictions_rf = random_forest.predict(x_test)"
   ]
  },
  {
   "cell_type": "code",
   "execution_count": 28,
   "id": "b5979b6d",
   "metadata": {},
   "outputs": [
    {
     "name": "stdout",
     "output_type": "stream",
     "text": [
      "[[7164 2956]\n",
      " [2138 8460]]\n"
     ]
    }
   ],
   "source": [
    "confusion_matrix_rf = metrics.confusion_matrix(y_test, predictions_rf)\n",
    "print(confusion_matrix_rf)"
   ]
  },
  {
   "cell_type": "code",
   "execution_count": 29,
   "id": "750da2ea",
   "metadata": {},
   "outputs": [
    {
     "data": {
      "image/png": "[encoded data removed]",
      "text/plain": [
       "<Figure size 576x432 with 2 Axes>"
      ]
     },
     "metadata": {
      "needs_background": "light"
     },
     "output_type": "display_data"
    }
   ],
   "source": [
    "plt.figure(figsize = (8,6))\n",
    "sns.heatmap(confusion_matrix_rf, annot = True, fmt = \".0f\", cmap = 'RdBu')\n",
    "plt.title(\"Confusion Matrix for Random Forest\")\n",
    "plt.xlabel(\"Prediction\")\n",
    "plt.ylabel(\"Actual\")\n",
    "plt.show()"
   ]
  },
  {
   "cell_type": "code",
   "execution_count": 32,
   "id": "9f149ffe",
   "metadata": {},
   "outputs": [
    {
     "name": "stdout",
     "output_type": "stream",
     "text": [
      "              precision    recall  f1-score   support\n",
      "\n",
      "           0       0.77      0.71      0.74     10120\n",
      "           1       0.74      0.80      0.77     10598\n",
      "\n",
      "    accuracy                           0.75     20718\n",
      "   macro avg       0.76      0.75      0.75     20718\n",
      "weighted avg       0.76      0.75      0.75     20718\n",
      "\n"
     ]
    }
   ],
   "source": [
    "report_rf = metrics.classification_report(y_test, predictions_rf)\n",
    "print(report_rf)"
   ]
  },
  {
   "cell_type": "markdown",
   "id": "ad17c8ee",
   "metadata": {},
   "source": [
    "#### Decision Tree"
   ]
  },
  {
   "cell_type": "code",
   "execution_count": 33,
   "id": "d3178ad6",
   "metadata": {},
   "outputs": [
    {
     "data": {
      "text/plain": [
       "0.6508832898928468"
      ]
     },
     "execution_count": 33,
     "metadata": {},
     "output_type": "execute_result"
    }
   ],
   "source": [
    "desicion_tree = DecisionTreeClassifier(random_state = 0)\n",
    "desicion_tree.fit(x_train, y_train)\n",
    "desicion_tree.score(x_test, y_test)"
   ]
  },
  {
   "cell_type": "markdown",
   "id": "29968965",
   "metadata": {},
   "source": [
    "**Note:** Default Settings"
   ]
  },
  {
   "cell_type": "code",
   "execution_count": 34,
   "id": "46390df5",
   "metadata": {},
   "outputs": [
    {
     "data": {
      "text/plain": [
       "0.6528139781832223"
      ]
     },
     "execution_count": 34,
     "metadata": {},
     "output_type": "execute_result"
    }
   ],
   "source": [
    "desicion_tree = DecisionTreeClassifier(random_state = 0, criterion=\"entropy\")\n",
    "desicion_tree.fit(x_train, y_train)\n",
    "desicion_tree.score(x_test, y_test)"
   ]
  },
  {
   "cell_type": "markdown",
   "id": "7b395c1b",
   "metadata": {},
   "source": [
    "**Note:** Changed criteria to Entropy"
   ]
  },
  {
   "cell_type": "code",
   "execution_count": 35,
   "id": "714144a2",
   "metadata": {},
   "outputs": [
    {
     "data": {
      "text/plain": [
       "0.6564340187276764"
      ]
     },
     "execution_count": 35,
     "metadata": {},
     "output_type": "execute_result"
    }
   ],
   "source": [
    "desicion_tree = DecisionTreeClassifier(random_state = 0, criterion=\"entropy\", splitter=\"random\")\n",
    "desicion_tree.fit(x_train, y_train)\n",
    "desicion_tree.score(x_test, y_test)"
   ]
  },
  {
   "cell_type": "markdown",
   "id": "ef15b519",
   "metadata": {},
   "source": [
    "**Note:** Changed splitter to random"
   ]
  },
  {
   "cell_type": "markdown",
   "id": "c8de20c9",
   "metadata": {},
   "source": [
    "#### Confusion Matrix and Classification Report"
   ]
  },
  {
   "cell_type": "code",
   "execution_count": 36,
   "id": "c10d9940",
   "metadata": {},
   "outputs": [],
   "source": [
    "predictions_dt = desicion_tree.predict(x_test)"
   ]
  },
  {
   "cell_type": "code",
   "execution_count": 37,
   "id": "456a155e",
   "metadata": {},
   "outputs": [
    {
     "name": "stdout",
     "output_type": "stream",
     "text": [
      "[[6715 3405]\n",
      " [3713 6885]]\n"
     ]
    }
   ],
   "source": [
    "confusion_matrix_dt = metrics.confusion_matrix(y_test, predictions_dt)\n",
    "print(confusion_matrix_dt)"
   ]
  },
  {
   "cell_type": "code",
   "execution_count": 38,
   "id": "7789c9be",
   "metadata": {},
   "outputs": [
    {
     "data": {
      "image/png": "[encoded data removed]",
      "text/plain": [
       "<Figure size 576x432 with 2 Axes>"
      ]
     },
     "metadata": {
      "needs_background": "light"
     },
     "output_type": "display_data"
    }
   ],
   "source": [
    "plt.figure(figsize = (8,6))\n",
    "sns.heatmap(confusion_matrix_dt, annot = True, fmt = \".0f\", cmap = 'Greens')\n",
    "plt.title(\"Confusion Matrix for Decision Tree\")\n",
    "plt.xlabel(\"Prediction\")\n",
    "plt.ylabel(\"Actual\")\n",
    "plt.show()"
   ]
  },
  {
   "cell_type": "code",
   "execution_count": 39,
   "id": "aed9e08f",
   "metadata": {},
   "outputs": [
    {
     "name": "stdout",
     "output_type": "stream",
     "text": [
      "              precision    recall  f1-score   support\n",
      "\n",
      "           0       0.64      0.66      0.65     10120\n",
      "           1       0.67      0.65      0.66     10598\n",
      "\n",
      "    accuracy                           0.66     20718\n",
      "   macro avg       0.66      0.66      0.66     20718\n",
      "weighted avg       0.66      0.66      0.66     20718\n",
      "\n"
     ]
    }
   ],
   "source": [
    "report_dt = metrics.classification_report(y_test, predictions_dt)\n",
    "print(report_dt)"
   ]
  },
  {
   "cell_type": "markdown",
   "id": "7ee743f3",
   "metadata": {},
   "source": [
    "#### Gradient Boosting"
   ]
  },
  {
   "cell_type": "code",
   "execution_count": 40,
   "id": "2d922da0",
   "metadata": {},
   "outputs": [
    {
     "data": {
      "text/plain": [
       "0.7545612510860121"
      ]
     },
     "execution_count": 40,
     "metadata": {},
     "output_type": "execute_result"
    }
   ],
   "source": [
    "gradient_boosting = GradientBoostingClassifier(random_state = 0)\n",
    "gradient_boosting.fit(x_train, y_train)\n",
    "gradient_boosting.score(x_test, y_test)"
   ]
  },
  {
   "cell_type": "markdown",
   "id": "8efeef6a",
   "metadata": {},
   "source": [
    "**Note:** Default settings"
   ]
  },
  {
   "cell_type": "code",
   "execution_count": 46,
   "id": "ae43494f",
   "metadata": {},
   "outputs": [
    {
     "data": {
      "text/plain": [
       "0.7561058017183125"
      ]
     },
     "execution_count": 46,
     "metadata": {},
     "output_type": "execute_result"
    }
   ],
   "source": [
    "gradient_boosting = GradientBoostingClassifier(random_state = 0, n_estimators = 300)\n",
    "gradient_boosting.fit(x_train, y_train)\n",
    "gradient_boosting.score(x_test, y_test)"
   ]
  },
  {
   "cell_type": "markdown",
   "id": "c13cb3f6",
   "metadata": {},
   "source": [
    "**Note:** Increased models"
   ]
  },
  {
   "cell_type": "code",
   "execution_count": 42,
   "id": "0741851b",
   "metadata": {},
   "outputs": [
    {
     "data": {
      "text/plain": [
       "0.7547060527077903"
      ]
     },
     "execution_count": 42,
     "metadata": {},
     "output_type": "execute_result"
    }
   ],
   "source": [
    "gradient_boosting = GradientBoostingClassifier(random_state = 0, n_estimators = 300, learning_rate = 0.15)\n",
    "gradient_boosting.fit(x_train, y_train)\n",
    "gradient_boosting.score(x_test, y_test)"
   ]
  },
  {
   "cell_type": "markdown",
   "id": "9ec78135",
   "metadata": {},
   "source": [
    "**Note:** Changed learning rate to 0.15"
   ]
  },
  {
   "cell_type": "code",
   "execution_count": 43,
   "id": "23c66ea8",
   "metadata": {},
   "outputs": [
    {
     "data": {
      "text/plain": [
       "0.7561058017183125"
      ]
     },
     "execution_count": 43,
     "metadata": {},
     "output_type": "execute_result"
    }
   ],
   "source": [
    "gradient_boosting = GradientBoostingClassifier(random_state = 0, n_estimators = 300, criterion='mse')\n",
    "gradient_boosting.fit(x_train, y_train)\n",
    "gradient_boosting.score(x_test, y_test)"
   ]
  },
  {
   "cell_type": "markdown",
   "id": "1bd6cb81",
   "metadata": {},
   "source": [
    "**Note:** Changed criteria to Mean Squared Error"
   ]
  },
  {
   "cell_type": "code",
   "execution_count": 44,
   "id": "96b6ce8b",
   "metadata": {},
   "outputs": [
    {
     "data": {
      "text/plain": [
       "0.7252630562795637"
      ]
     },
     "execution_count": 44,
     "metadata": {},
     "output_type": "execute_result"
    }
   ],
   "source": [
    "gradient_boosting = GradientBoostingClassifier(random_state = 0, n_estimators = 300, max_depth = 10)\n",
    "gradient_boosting.fit(x_train, y_train)\n",
    "gradient_boosting.score(x_test, y_test)"
   ]
  },
  {
   "cell_type": "markdown",
   "id": "d10ea430",
   "metadata": {},
   "source": [
    "**Note:** Changed max depth to 10"
   ]
  },
  {
   "cell_type": "code",
   "execution_count": 45,
   "id": "37e7e9c0",
   "metadata": {},
   "outputs": [
    {
     "data": {
      "text/plain": [
       "0.7553335264021623"
      ]
     },
     "execution_count": 45,
     "metadata": {},
     "output_type": "execute_result"
    }
   ],
   "source": [
    "gradient_boosting = GradientBoostingClassifier(random_state = 0, n_estimators = 300, subsample = 0.8)\n",
    "gradient_boosting.fit(x_train, y_train)\n",
    "gradient_boosting.score(x_test, y_test)"
   ]
  },
  {
   "cell_type": "markdown",
   "id": "aa89eaa1",
   "metadata": {},
   "source": [
    "**Note:** Changed subsample to 80%"
   ]
  },
  {
   "cell_type": "markdown",
   "id": "43c9a8d7",
   "metadata": {},
   "source": [
    "#### Confusion Matrix and Classification Report"
   ]
  },
  {
   "cell_type": "code",
   "execution_count": 47,
   "id": "dffee541",
   "metadata": {},
   "outputs": [],
   "source": [
    "predictions_gb = gradient_boosting.predict(x_test)"
   ]
  },
  {
   "cell_type": "code",
   "execution_count": 48,
   "id": "db08ef94",
   "metadata": {},
   "outputs": [
    {
     "name": "stdout",
     "output_type": "stream",
     "text": [
      "[[7208 2912]\n",
      " [2141 8457]]\n"
     ]
    }
   ],
   "source": [
    "confusion_matrix_gb = metrics.confusion_matrix(y_test, predictions_gb)\n",
    "print(confusion_matrix_gb)"
   ]
  },
  {
   "cell_type": "code",
   "execution_count": 50,
   "id": "7b4c8f54",
   "metadata": {},
   "outputs": [
    {
     "data": {
      "image/png": "[encoded data removed]",
      "text/plain": [
       "<Figure size 576x432 with 2 Axes>"
      ]
     },
     "metadata": {
      "needs_background": "light"
     },
     "output_type": "display_data"
    }
   ],
   "source": [
    "plt.figure(figsize = (8,6))\n",
    "sns.heatmap(confusion_matrix_gb, annot = True, fmt = \".0f\", cmap = 'viridis')\n",
    "plt.title(\"Confusion Matrix for Gradient Boosted Model\")\n",
    "plt.xlabel(\"Prediction\")\n",
    "plt.ylabel(\"Actual\")\n",
    "plt.show()"
   ]
  },
  {
   "cell_type": "code",
   "execution_count": 51,
   "id": "2c2fa6fd",
   "metadata": {},
   "outputs": [
    {
     "name": "stdout",
     "output_type": "stream",
     "text": [
      "              precision    recall  f1-score   support\n",
      "\n",
      "           0       0.77      0.71      0.74     10120\n",
      "           1       0.74      0.80      0.77     10598\n",
      "\n",
      "    accuracy                           0.76     20718\n",
      "   macro avg       0.76      0.76      0.76     20718\n",
      "weighted avg       0.76      0.76      0.76     20718\n",
      "\n"
     ]
    }
   ],
   "source": [
    "report_gb = metrics.classification_report(y_test, predictions_gb)\n",
    "print(report_gb)"
   ]
  },
  {
   "cell_type": "markdown",
   "id": "c3fb9f4d",
   "metadata": {},
   "source": [
    "#### Naive Bayes"
   ]
  },
  {
   "cell_type": "code",
   "execution_count": 52,
   "id": "12e7bac7",
   "metadata": {},
   "outputs": [
    {
     "data": {
      "text/plain": [
       "0.7179747079833961"
      ]
     },
     "execution_count": 52,
     "metadata": {},
     "output_type": "execute_result"
    }
   ],
   "source": [
    "naive_bayes = GaussianNB()\n",
    "naive_bayes.fit(x_train, y_train)\n",
    "naive_bayes.score(x_test, y_test)"
   ]
  },
  {
   "cell_type": "markdown",
   "id": "f20f83a7",
   "metadata": {},
   "source": [
    "#### Confusion Matrix and Classification Report"
   ]
  },
  {
   "cell_type": "code",
   "execution_count": 53,
   "id": "7205a600",
   "metadata": {},
   "outputs": [],
   "source": [
    "predictions_nb = naive_bayes.predict(x_test)"
   ]
  },
  {
   "cell_type": "code",
   "execution_count": 54,
   "id": "7c4ae581",
   "metadata": {},
   "outputs": [
    {
     "name": "stdout",
     "output_type": "stream",
     "text": [
      "[[7318 2802]\n",
      " [3041 7557]]\n"
     ]
    }
   ],
   "source": [
    "confusion_matrix_nb = metrics.confusion_matrix(y_test, predictions_nb)\n",
    "print(confusion_matrix_nb)"
   ]
  },
  {
   "cell_type": "code",
   "execution_count": 55,
   "id": "32f2424e",
   "metadata": {},
   "outputs": [
    {
     "data": {
      "image/png": "[encoded data removed]",
      "text/plain": [
       "<Figure size 576x432 with 2 Axes>"
      ]
     },
     "metadata": {
      "needs_background": "light"
     },
     "output_type": "display_data"
    }
   ],
   "source": [
    "plt.figure(figsize = (8,6))\n",
    "sns.heatmap(confusion_matrix_nb, annot = True, fmt = \".0f\", cmap = 'Blues')\n",
    "plt.title(\"Confusion Matrix for Naive Bayes\")\n",
    "plt.xlabel(\"Prediction\")\n",
    "plt.ylabel(\"Actual\")\n",
    "plt.show()"
   ]
  },
  {
   "cell_type": "code",
   "execution_count": 56,
   "id": "a1288453",
   "metadata": {},
   "outputs": [
    {
     "name": "stdout",
     "output_type": "stream",
     "text": [
      "              precision    recall  f1-score   support\n",
      "\n",
      "           0       0.71      0.72      0.71     10120\n",
      "           1       0.73      0.71      0.72     10598\n",
      "\n",
      "    accuracy                           0.72     20718\n",
      "   macro avg       0.72      0.72      0.72     20718\n",
      "weighted avg       0.72      0.72      0.72     20718\n",
      "\n"
     ]
    }
   ],
   "source": [
    "report_nb = metrics.classification_report(y_test, predictions_nb)\n",
    "print(report_nb)"
   ]
  },
  {
   "cell_type": "markdown",
   "id": "88f889ad",
   "metadata": {},
   "source": [
    "### Evaluating Feature Importance Acc. to Each Algorithm"
   ]
  },
  {
   "cell_type": "markdown",
   "id": "3225c46c",
   "metadata": {},
   "source": [
    "#### Random Forest"
   ]
  },
  {
   "cell_type": "code",
   "execution_count": 66,
   "id": "b41786a9",
   "metadata": {},
   "outputs": [
    {
     "name": "stdout",
     "output_type": "stream",
     "text": [
      "GenHlth                 0.222461\n",
      "HighBP                  0.192046\n",
      "BMI                     0.133147\n",
      "Age                     0.107900\n",
      "HighChol                0.092223\n",
      "DiffWalk                0.055364\n",
      "Income                  0.033830\n",
      "PhysHlth                0.033443\n",
      "HeartDiseaseorAttack    0.030692\n",
      "Education               0.017303\n",
      "MentHlth                0.014594\n",
      "CholCheck               0.010506\n",
      "HvyAlcoholConsump       0.010083\n",
      "Sex                     0.009215\n",
      "PhysActivity            0.008859\n",
      "Stroke                  0.006627\n",
      "Smoker                  0.005165\n",
      "Veggies                 0.004652\n",
      "Fruits                  0.004566\n",
      "NoDocbcCost             0.004016\n",
      "AnyHealthcare           0.003306\n",
      "dtype: float64\n"
     ]
    }
   ],
   "source": [
    "train_columns = x_train.columns\n",
    "features_rf = pd.Series(random_forest.feature_importances_, index = train_columns)\n",
    "print(features_rf.sort_values(ascending = False))"
   ]
  },
  {
   "cell_type": "markdown",
   "id": "2a86e803",
   "metadata": {},
   "source": [
    "**Most important features are on top of the list**"
   ]
  },
  {
   "cell_type": "markdown",
   "id": "df59399b",
   "metadata": {},
   "source": [
    "#### Decision Tree"
   ]
  },
  {
   "cell_type": "code",
   "execution_count": 67,
   "id": "ce58f4f4",
   "metadata": {},
   "outputs": [
    {
     "name": "stdout",
     "output_type": "stream",
     "text": [
      "BMI                     0.139279\n",
      "HighBP                  0.101333\n",
      "Age                     0.100460\n",
      "Income                  0.092722\n",
      "GenHlth                 0.079466\n",
      "PhysHlth                0.069138\n",
      "Education               0.066546\n",
      "MentHlth                0.060881\n",
      "Fruits                  0.038866\n",
      "Smoker                  0.038037\n",
      "Veggies                 0.032454\n",
      "PhysActivity            0.030395\n",
      "Sex                     0.029653\n",
      "DiffWalk                0.022582\n",
      "HighChol                0.021861\n",
      "NoDocbcCost             0.018638\n",
      "HeartDiseaseorAttack    0.016553\n",
      "Stroke                  0.014107\n",
      "AnyHealthcare           0.010738\n",
      "HvyAlcoholConsump       0.009566\n",
      "CholCheck               0.006728\n",
      "dtype: float64\n"
     ]
    }
   ],
   "source": [
    "train_columns = x_train.columns\n",
    "features_dt = pd.Series(desicion_tree.feature_importances_, index = train_columns)\n",
    "print(features_dt.sort_values(ascending = False))"
   ]
  },
  {
   "cell_type": "markdown",
   "id": "f3a98088",
   "metadata": {},
   "source": [
    "#### Gradient Boosting"
   ]
  },
  {
   "cell_type": "code",
   "execution_count": 68,
   "id": "b91064f5",
   "metadata": {},
   "outputs": [
    {
     "name": "stdout",
     "output_type": "stream",
     "text": [
      "HighBP                  0.321856\n",
      "GenHlth                 0.284878\n",
      "BMI                     0.120716\n",
      "Age                     0.110606\n",
      "HighChol                0.066013\n",
      "HeartDiseaseorAttack    0.016093\n",
      "Income                  0.015548\n",
      "DiffWalk                0.012535\n",
      "CholCheck               0.011101\n",
      "HvyAlcoholConsump       0.010891\n",
      "Sex                     0.009753\n",
      "Education               0.005578\n",
      "MentHlth                0.004120\n",
      "PhysHlth                0.003941\n",
      "Stroke                  0.002287\n",
      "Smoker                  0.000978\n",
      "Fruits                  0.000887\n",
      "PhysActivity            0.000669\n",
      "NoDocbcCost             0.000589\n",
      "AnyHealthcare           0.000541\n",
      "Veggies                 0.000423\n",
      "dtype: float64\n"
     ]
    }
   ],
   "source": [
    "train_columns = x_train.columns\n",
    "features_gb = pd.Series(gradient_boosting.feature_importances_, index = train_columns)\n",
    "print(features_gb.sort_values(ascending = False))"
   ]
  },
  {
   "cell_type": "markdown",
   "id": "7d4a008d",
   "metadata": {},
   "source": [
    "#### Naive Bayes"
   ]
  },
  {
   "cell_type": "markdown",
   "id": "7088471a",
   "metadata": {},
   "source": [
    "    **Note: Since Naive Bayes don't have an attribute 'feature_importances_', we can't calculate the importance of each feature in this case**"
   ]
  },
  {
   "cell_type": "markdown",
   "id": "a7ebd4be",
   "metadata": {},
   "source": [
    "*Let's visualize these to get a better understanding*"
   ]
  },
  {
   "cell_type": "code",
   "execution_count": 110,
   "id": "df986684",
   "metadata": {},
   "outputs": [
    {
     "data": {
      "image/png": "[encoded data removed]",
      "text/plain": [
       "<Figure size 1080x576 with 1 Axes>"
      ]
     },
     "metadata": {
      "needs_background": "light"
     },
     "output_type": "display_data"
    }
   ],
   "source": [
    "plt.figure(figsize = (15,8))\n",
    "sns.barplot(x = features_rf, y = features_rf.index)\n",
    "plt.title(\"Feature Importance for Random Forest\")\n",
    "plt.xlabel('Score')\n",
    "plt.ylabel('Features')\n",
    "plt.show()"
   ]
  },
  {
   "cell_type": "code",
   "execution_count": 111,
   "id": "77676084",
   "metadata": {},
   "outputs": [
    {
     "data": {
      "image/png": "[encoded data removed]",
      "text/plain": [
       "<Figure size 1080x576 with 1 Axes>"
      ]
     },
     "metadata": {
      "needs_background": "light"
     },
     "output_type": "display_data"
    }
   ],
   "source": [
    "plt.figure(figsize = (15,8))\n",
    "sns.barplot(x = features_dt, y = features_dt.index)\n",
    "plt.title(\"Feature Importance for Decision Tree\")\n",
    "plt.xlabel('Score')\n",
    "plt.ylabel('Features')\n",
    "plt.show()"
   ]
  },
  {
   "cell_type": "code",
   "execution_count": 112,
   "id": "717181fb",
   "metadata": {},
   "outputs": [
    {
     "data": {
      "image/png": "[encoded data removed]",
      "text/plain": [
       "<Figure size 1080x576 with 1 Axes>"
      ]
     },
     "metadata": {
      "needs_background": "light"
     },
     "output_type": "display_data"
    }
   ],
   "source": [
    "plt.figure(figsize = (15,8))\n",
    "sns.barplot(x = features_gb, y = features_gb.index)\n",
    "plt.title(\"Feature Importance for Gradient Boosting\")\n",
    "plt.xlabel('Score')\n",
    "plt.ylabel('Features')\n",
    "plt.show()"
   ]
  },
  {
   "cell_type": "markdown",
   "id": "d22e1d53",
   "metadata": {},
   "source": [
    "On the basis of observations, we have concluded that the following features seems to have more importance than others; Therefore, we are selecting these features and training our models again with these features only.<br><br>\n",
    "**'HighBP', 'HighChol', 'CholCheck', 'BMI', 'Smoker', 'Stroke', 'PhysHlth', 'HeartDiseaseorAttack', 'GenHlth', 'Age'**"
   ]
  },
  {
   "cell_type": "code",
   "execution_count": 89,
   "id": "ea92f83d",
   "metadata": {},
   "outputs": [
    {
     "name": "stdout",
     "output_type": "stream",
     "text": [
      "(69057, 10)\n",
      "(69057,)\n"
     ]
    }
   ],
   "source": [
    "X_new = df_new.drop('Diabetes_binary', axis = 1)\n",
    "X_new = X_new[['HighBP', 'HighChol', 'CholCheck', 'BMI', 'Smoker', 'Stroke', 'PhysHlth', 'HeartDiseaseorAttack', 'GenHlth', 'Age']]\n",
    "Y_new = df_new['Diabetes_binary']\n",
    "print(X_new.shape)\n",
    "print(Y_new.shape)"
   ]
  },
  {
   "cell_type": "code",
   "execution_count": 90,
   "id": "5e3e7464",
   "metadata": {},
   "outputs": [
    {
     "data": {
      "text/html": [
       "<div>\n",
       "<style scoped>\n",
       "    .dataframe tbody tr th:only-of-type {\n",
       "        vertical-align: middle;\n",
       "    }\n",
       "\n",
       "    .dataframe tbody tr th {\n",
       "        vertical-align: top;\n",
       "    }\n",
       "\n",
       "    .dataframe thead th {\n",
       "        text-align: right;\n",
       "    }\n",
       "</style>\n",
       "<table border=\"1\" class=\"dataframe\">\n",
       "  <thead>\n",
       "    <tr style=\"text-align: right;\">\n",
       "      <th></th>\n",
       "      <th>HighBP</th>\n",
       "      <th>HighChol</th>\n",
       "      <th>CholCheck</th>\n",
       "      <th>BMI</th>\n",
       "      <th>Smoker</th>\n",
       "      <th>Stroke</th>\n",
       "      <th>PhysHlth</th>\n",
       "      <th>HeartDiseaseorAttack</th>\n",
       "      <th>GenHlth</th>\n",
       "      <th>Age</th>\n",
       "    </tr>\n",
       "  </thead>\n",
       "  <tbody>\n",
       "    <tr>\n",
       "      <th>0</th>\n",
       "      <td>1.0</td>\n",
       "      <td>0.0</td>\n",
       "      <td>1.0</td>\n",
       "      <td>26.0</td>\n",
       "      <td>0.0</td>\n",
       "      <td>0.0</td>\n",
       "      <td>30.0</td>\n",
       "      <td>0.0</td>\n",
       "      <td>3.0</td>\n",
       "      <td>4.0</td>\n",
       "    </tr>\n",
       "    <tr>\n",
       "      <th>1</th>\n",
       "      <td>1.0</td>\n",
       "      <td>1.0</td>\n",
       "      <td>1.0</td>\n",
       "      <td>26.0</td>\n",
       "      <td>1.0</td>\n",
       "      <td>1.0</td>\n",
       "      <td>0.0</td>\n",
       "      <td>0.0</td>\n",
       "      <td>3.0</td>\n",
       "      <td>12.0</td>\n",
       "    </tr>\n",
       "    <tr>\n",
       "      <th>2</th>\n",
       "      <td>0.0</td>\n",
       "      <td>0.0</td>\n",
       "      <td>1.0</td>\n",
       "      <td>26.0</td>\n",
       "      <td>0.0</td>\n",
       "      <td>0.0</td>\n",
       "      <td>10.0</td>\n",
       "      <td>0.0</td>\n",
       "      <td>1.0</td>\n",
       "      <td>13.0</td>\n",
       "    </tr>\n",
       "    <tr>\n",
       "      <th>3</th>\n",
       "      <td>1.0</td>\n",
       "      <td>1.0</td>\n",
       "      <td>1.0</td>\n",
       "      <td>28.0</td>\n",
       "      <td>1.0</td>\n",
       "      <td>0.0</td>\n",
       "      <td>3.0</td>\n",
       "      <td>0.0</td>\n",
       "      <td>3.0</td>\n",
       "      <td>11.0</td>\n",
       "    </tr>\n",
       "    <tr>\n",
       "      <th>4</th>\n",
       "      <td>0.0</td>\n",
       "      <td>0.0</td>\n",
       "      <td>1.0</td>\n",
       "      <td>29.0</td>\n",
       "      <td>1.0</td>\n",
       "      <td>0.0</td>\n",
       "      <td>0.0</td>\n",
       "      <td>0.0</td>\n",
       "      <td>2.0</td>\n",
       "      <td>8.0</td>\n",
       "    </tr>\n",
       "  </tbody>\n",
       "</table>\n",
       "</div>"
      ],
      "text/plain": [
       "   HighBP  HighChol  CholCheck   BMI  Smoker  Stroke  PhysHlth  \\\n",
       "0     1.0       0.0        1.0  26.0     0.0     0.0      30.0   \n",
       "1     1.0       1.0        1.0  26.0     1.0     1.0       0.0   \n",
       "2     0.0       0.0        1.0  26.0     0.0     0.0      10.0   \n",
       "3     1.0       1.0        1.0  28.0     1.0     0.0       3.0   \n",
       "4     0.0       0.0        1.0  29.0     1.0     0.0       0.0   \n",
       "\n",
       "   HeartDiseaseorAttack  GenHlth   Age  \n",
       "0                   0.0      3.0   4.0  \n",
       "1                   0.0      3.0  12.0  \n",
       "2                   0.0      1.0  13.0  \n",
       "3                   0.0      3.0  11.0  \n",
       "4                   0.0      2.0   8.0  "
      ]
     },
     "execution_count": 90,
     "metadata": {},
     "output_type": "execute_result"
    }
   ],
   "source": [
    "X_new.head()"
   ]
  },
  {
   "cell_type": "code",
   "execution_count": 91,
   "id": "c08d5a91",
   "metadata": {},
   "outputs": [
    {
     "name": "stdout",
     "output_type": "stream",
     "text": [
      "(48339, 10)\n",
      "(20718, 10)\n",
      "(48339,)\n",
      "(20718,)\n"
     ]
    }
   ],
   "source": [
    "x_train_new, x_test_new, y_train_new, y_test_new = train_test_split(X_new, Y_new, test_size = 0.3, random_state = 42)\n",
    "print(x_train_new.shape)\n",
    "print(x_test_new.shape)\n",
    "print(y_train_new.shape)\n",
    "print(y_test_new.shape)"
   ]
  },
  {
   "cell_type": "markdown",
   "id": "3c92ba45",
   "metadata": {},
   "source": [
    "Now, since we have an updated dataset, let's train the models again and observe their accuracy"
   ]
  },
  {
   "cell_type": "markdown",
   "id": "27b3cd8f",
   "metadata": {},
   "source": [
    "### Modeling with Feature Selection"
   ]
  },
  {
   "cell_type": "markdown",
   "id": "b43b27ac",
   "metadata": {},
   "source": [
    "#### Random Forest"
   ]
  },
  {
   "cell_type": "markdown",
   "id": "5a70de0b",
   "metadata": {},
   "source": [
    "Previously, the accuracy achieved by this model was 75.41%"
   ]
  },
  {
   "cell_type": "code",
   "execution_count": 92,
   "id": "38189aba",
   "metadata": {},
   "outputs": [
    {
     "name": "stderr",
     "output_type": "stream",
     "text": [
      "[Parallel(n_jobs=1)]: Using backend SequentialBackend with 1 concurrent workers.\n",
      "[Parallel(n_jobs=1)]: Done 1000 out of 1000 | elapsed:   37.0s finished\n",
      "[Parallel(n_jobs=1)]: Using backend SequentialBackend with 1 concurrent workers.\n",
      "[Parallel(n_jobs=1)]: Done 1000 out of 1000 | elapsed:    3.7s finished\n"
     ]
    },
    {
     "data": {
      "text/plain": [
       "0.7499758663963703"
      ]
     },
     "execution_count": 92,
     "metadata": {},
     "output_type": "execute_result"
    }
   ],
   "source": [
    "random_forest_new = RandomForestClassifier(random_state = 0, verbose = 1, n_estimators=1000, max_depth=10)\n",
    "random_forest_new.fit(x_train_new, y_train_new)\n",
    "random_forest_new.score(x_test_new, y_test_new)"
   ]
  },
  {
   "cell_type": "markdown",
   "id": "1e105511",
   "metadata": {},
   "source": [
    "**Note:** Seems like accuracy decreased a bit in this case"
   ]
  },
  {
   "cell_type": "markdown",
   "id": "5790819b",
   "metadata": {},
   "source": [
    "#### Decision Tree"
   ]
  },
  {
   "cell_type": "markdown",
   "id": "122cbd2b",
   "metadata": {},
   "source": [
    "Previously, the accuracy achieved by this model was 65.64%"
   ]
  },
  {
   "cell_type": "code",
   "execution_count": 94,
   "id": "494e70b4",
   "metadata": {},
   "outputs": [
    {
     "data": {
      "text/plain": [
       "0.6799401486629983"
      ]
     },
     "execution_count": 94,
     "metadata": {},
     "output_type": "execute_result"
    }
   ],
   "source": [
    "desicion_tree_new = DecisionTreeClassifier(random_state = 0, criterion=\"entropy\", splitter=\"random\")\n",
    "desicion_tree_new.fit(x_train_new, y_train_new)\n",
    "desicion_tree_new.score(x_test_new, y_test_new)"
   ]
  },
  {
   "cell_type": "markdown",
   "id": "351c56cf",
   "metadata": {},
   "source": [
    "**Note:** Seems like accuracy increased in this case"
   ]
  },
  {
   "cell_type": "markdown",
   "id": "59b457d7",
   "metadata": {},
   "source": [
    "#### Gradient Boosting"
   ]
  },
  {
   "cell_type": "markdown",
   "id": "e02ffd36",
   "metadata": {},
   "source": [
    "Previously, the accuracy achieved by this model was 75.61%"
   ]
  },
  {
   "cell_type": "code",
   "execution_count": 95,
   "id": "0032915e",
   "metadata": {},
   "outputs": [
    {
     "data": {
      "text/plain": [
       "0.7512790809923737"
      ]
     },
     "execution_count": 95,
     "metadata": {},
     "output_type": "execute_result"
    }
   ],
   "source": [
    "gradient_boosting_new = GradientBoostingClassifier(random_state = 0, n_estimators = 300)\n",
    "gradient_boosting_new.fit(x_train_new, y_train_new)\n",
    "gradient_boosting_new.score(x_test_new, y_test_new)"
   ]
  },
  {
   "cell_type": "markdown",
   "id": "21ef2714",
   "metadata": {},
   "source": [
    "**Note:** Seems like accuracy decreased a bit in this case"
   ]
  },
  {
   "cell_type": "markdown",
   "id": "7eec1efd",
   "metadata": {},
   "source": [
    "#### Naive Bayes"
   ]
  },
  {
   "cell_type": "markdown",
   "id": "ca45e639",
   "metadata": {},
   "source": [
    "Previously, the accuracy achieved by this model was 71.8%"
   ]
  },
  {
   "cell_type": "code",
   "execution_count": 97,
   "id": "da52a395",
   "metadata": {},
   "outputs": [
    {
     "data": {
      "text/plain": [
       "0.7306689834926151"
      ]
     },
     "execution_count": 97,
     "metadata": {},
     "output_type": "execute_result"
    }
   ],
   "source": [
    "naive_bayes_new = GaussianNB()\n",
    "naive_bayes_new.fit(x_train_new, y_train_new)\n",
    "naive_bayes_new.score(x_test_new, y_test_new)"
   ]
  },
  {
   "cell_type": "markdown",
   "id": "8ac2d367",
   "metadata": {},
   "source": [
    "**Note:** Seems like accuracy increased in this case"
   ]
  },
  {
   "cell_type": "code",
   "execution_count": null,
   "id": "d20313ba",
   "metadata": {},
   "outputs": [],
   "source": []
  }
 ],
 "metadata": {
  "kernelspec": {
   "display_name": "Python 3 (ipykernel)",
   "language": "python",
   "name": "python3"
  },
  "language_info": {
   "codemirror_mode": {
    "name": "ipython",
    "version": 3
   },
   "file_extension": ".py",
   "mimetype": "text/x-python",
   "name": "python",
   "nbconvert_exporter": "python",
   "pygments_lexer": "ipython3",
   "version": "3.8.11"
  }
 },
 "nbformat": 4,
 "nbformat_minor": 5
}
